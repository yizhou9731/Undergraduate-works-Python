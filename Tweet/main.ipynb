{
 "cells": [
  {
   "cell_type": "code",
   "execution_count": 1,
   "metadata": {},
   "outputs": [],
   "source": [
    "#project: p9\n",
    "#submitter-netid: yzhou344\n",
    "#partner-netid: none"
   ]
  },
  {
   "cell_type": "code",
   "execution_count": 2,
   "metadata": {},
   "outputs": [],
   "source": [
    "import os,json,csv\n"
   ]
  },
  {
   "cell_type": "code",
   "execution_count": 3,
   "metadata": {},
   "outputs": [],
   "source": [
    "def get_file(file_name):\n",
    "    fl=os.listdir(file_name)\n",
    "    fl_sorted=sorted(fl,reverse=True)\n",
    "    return fl_sorted\n"
   ]
  },
  {
   "cell_type": "code",
   "execution_count": 4,
   "metadata": {},
   "outputs": [],
   "source": [
    "def get_file_filter(file_name):\n",
    "    g=[]\n",
    "    \n",
    "    for file in get_file(file_name):\n",
    "        \n",
    "        if file.endswith(\".csv\") or file.endswith(\".json\"):\n",
    "            g.append(file)\n",
    "    return g\n",
    "            \n",
    "    \n",
    "   \n",
    "    "
   ]
  },
  {
   "cell_type": "code",
   "execution_count": 5,
   "metadata": {},
   "outputs": [
    {
     "data": {
      "text/plain": [
       "['5.json',\n",
       " '5.csv',\n",
       " '4.json',\n",
       " '4.csv',\n",
       " '3.json',\n",
       " '3.csv',\n",
       " '2.json',\n",
       " '2.csv',\n",
       " '1.json',\n",
       " '1.csv']"
      ]
     },
     "execution_count": 5,
     "metadata": {},
     "output_type": "execute_result"
    }
   ],
   "source": [
    "get_file_filter(\"full_data\")"
   ]
  },
  {
   "cell_type": "code",
   "execution_count": 6,
   "metadata": {},
   "outputs": [
    {
     "data": {
      "text/plain": [
       "['2.json', '2.csv', '1.json', '1.csv']"
      ]
     },
     "execution_count": 6,
     "metadata": {},
     "output_type": "execute_result"
    }
   ],
   "source": [
    "#q1\n",
    "get_file(\"sample_data\")\n"
   ]
  },
  {
   "cell_type": "code",
   "execution_count": 7,
   "metadata": {},
   "outputs": [],
   "source": [
    "def get_path(file_name):\n",
    "    total=[]\n",
    "    for file in get_file(file_name):\n",
    "            path = os.path.join(file_name, file)\n",
    "            total.append(path)\n",
    "            sorted(total,reverse=True)\n",
    "    return total"
   ]
  },
  {
   "cell_type": "code",
   "execution_count": 8,
   "metadata": {},
   "outputs": [
    {
     "data": {
      "text/plain": [
       "['sample_data/2.json',\n",
       " 'sample_data/2.csv',\n",
       " 'sample_data/1.json',\n",
       " 'sample_data/1.csv']"
      ]
     },
     "execution_count": 8,
     "metadata": {},
     "output_type": "execute_result"
    }
   ],
   "source": [
    "#q2\n",
    "get_path(\"sample_data\")"
   ]
  },
  {
   "cell_type": "code",
   "execution_count": 9,
   "metadata": {},
   "outputs": [
    {
     "data": {
      "text/plain": [
       "['full_data/meta.info',\n",
       " 'full_data/agency_info',\n",
       " 'full_data/5.json',\n",
       " 'full_data/5.csv',\n",
       " 'full_data/4.json',\n",
       " 'full_data/4.csv',\n",
       " 'full_data/3.json',\n",
       " 'full_data/3.csv',\n",
       " 'full_data/2.json',\n",
       " 'full_data/2.csv',\n",
       " 'full_data/1.json',\n",
       " 'full_data/1.csv']"
      ]
     },
     "execution_count": 9,
     "metadata": {},
     "output_type": "execute_result"
    }
   ],
   "source": [
    "#q3\n",
    "get_path(\"full_data\")"
   ]
  },
  {
   "cell_type": "code",
   "execution_count": 10,
   "metadata": {},
   "outputs": [
    {
     "data": {
      "text/plain": [
       "['meta.info',\n",
       " 'agency_info',\n",
       " '5.json',\n",
       " '5.csv',\n",
       " '4.json',\n",
       " '4.csv',\n",
       " '3.json',\n",
       " '3.csv',\n",
       " '2.json',\n",
       " '2.csv',\n",
       " '1.json',\n",
       " '1.csv']"
      ]
     },
     "execution_count": 10,
     "metadata": {},
     "output_type": "execute_result"
    }
   ],
   "source": [
    "get_file(\"full_data\")"
   ]
  },
  {
   "cell_type": "code",
   "execution_count": 11,
   "metadata": {},
   "outputs": [],
   "source": [
    "def get_path_filter(file_name):\n",
    "    \n",
    "    total=[]\n",
    "   \n",
    "    for file in get_file(file_name):\n",
    "        \n",
    "        path = os.path.join(file_name, file)\n",
    "        if file.endswith(\".json\") or file.endswith(\".csv\"):\n",
    "            \n",
    "            total.append(path)\n",
    "            \n",
    "            sorted(total,reverse=True)\n",
    "    return total"
   ]
  },
  {
   "cell_type": "code",
   "execution_count": 12,
   "metadata": {},
   "outputs": [
    {
     "data": {
      "text/plain": [
       "['sample_data/2.json',\n",
       " 'sample_data/2.csv',\n",
       " 'sample_data/1.json',\n",
       " 'sample_data/1.csv']"
      ]
     },
     "execution_count": 12,
     "metadata": {},
     "output_type": "execute_result"
    }
   ],
   "source": [
    "#q4\n",
    "get_path_filter(\"sample_data\")"
   ]
  },
  {
   "cell_type": "code",
   "execution_count": 13,
   "metadata": {},
   "outputs": [
    {
     "data": {
      "text/plain": [
       "['full_data/5.json',\n",
       " 'full_data/5.csv',\n",
       " 'full_data/4.json',\n",
       " 'full_data/4.csv',\n",
       " 'full_data/3.json',\n",
       " 'full_data/3.csv',\n",
       " 'full_data/2.json',\n",
       " 'full_data/2.csv',\n",
       " 'full_data/1.json',\n",
       " 'full_data/1.csv']"
      ]
     },
     "execution_count": 13,
     "metadata": {},
     "output_type": "execute_result"
    }
   ],
   "source": [
    "#q5\n",
    "get_path_filter(\"full_data\")"
   ]
  },
  {
   "cell_type": "code",
   "execution_count": 14,
   "metadata": {},
   "outputs": [
    {
     "data": {
      "text/plain": [
       "Tweet(tweet_id='id123', username='user456', num_liked=100, length=140)"
      ]
     },
     "execution_count": 14,
     "metadata": {},
     "output_type": "execute_result"
    }
   ],
   "source": [
    "#creat a new type using namedtuple\n",
    "from collections import namedtuple\n",
    "Tweet=namedtuple(\"Tweet\",[\"tweet_id\",\"username\",\"num_liked\",\"length\"])\n",
    "testing = Tweet(\"id123\", \"user456\", 100, 140)\n",
    "testing"
   ]
  },
  {
   "cell_type": "code",
   "execution_count": null,
   "metadata": {},
   "outputs": [],
   "source": []
  },
  {
   "cell_type": "code",
   "execution_count": 15,
   "metadata": {},
   "outputs": [],
   "source": [
    " def process_csv(file):\n",
    "        # copied from https://automatetheboringstuff.com/chapter14/\n",
    "        \n",
    "        exampleFile = open(file, encoding=\"utf-8\")\n",
    "        exampleReader = csv.reader(exampleFile)\n",
    "        exampleData = list(exampleReader)\n",
    "        return exampleData"
   ]
  },
  {
   "cell_type": "code",
   "execution_count": 16,
   "metadata": {},
   "outputs": [],
   "source": [
    "def tweet_info(file,dic):\n",
    "    \n",
    "    path = os.path.join(dic, file)\n",
    "    \n",
    "    if file.endswith(\".csv\"):\n",
    "        \n",
    "        m=[]   \n",
    "        import csv\n",
    "\n",
    "# use process_csv to pull out the header and data rows\n",
    "        csv_rows = process_csv(path)\n",
    "        csv_header = csv_rows[0]\n",
    "        csv_data = csv_rows[1:]\n",
    "       \n",
    "        \n",
    "        for lists in csv_data:\n",
    "            if int(len(lists))== int(len(csv_header)):\n",
    "\n",
    "                k={}\n",
    "                k[csv_header[0]]=lists[0]\n",
    "                k[csv_header[1]]=lists[1]\n",
    "                k[csv_header[2]]=lists[2]\n",
    "                k[csv_header[3]]=lists[3]\n",
    "                k[csv_header[4]]=lists[4]\n",
    "                k[csv_header[5]]=lists[5]\n",
    "                m.append(k) \n",
    "\n",
    "        #print(m)  \n",
    "        total=[]\n",
    "        for dic in m:\n",
    "\n",
    "\n",
    "            from collections import namedtuple\n",
    "            Tweet=namedtuple(\"Tweet\",[\"tweet_id\",\"username\",\"num_liked\",\"length\"])\n",
    "            t=Tweet(dic[\"tweet_id\"],dic[\"username\"],int(dic[\"num_liked\"]),len(dic[\"tweet_text\"]))\n",
    "            total.append(t)\n",
    "        return total\n",
    "\n",
    "        \n",
    "    else:\n",
    "        if file.endswith(\".json\"):\n",
    "            \n",
    "            f = open(path, encoding=\"utf-8\")\n",
    "            json_str = f.read()\n",
    "            f.close()\n",
    "            \n",
    "            empty=[]\n",
    "            \n",
    "            #for strs in json_str:\n",
    "            \n",
    "            try:\n",
    "\n",
    "                #f = open(path, encoding=\"utf-8\")\n",
    "                #json_str = f.read()\n",
    "                #f.close()\n",
    "                data = json.loads(json_str)\n",
    "                status=0\n",
    "                #print(\"success\")\n",
    "\n",
    "            except:\n",
    "\n",
    "                status=1\n",
    "                return empty\n",
    "\n",
    "                \n",
    "\n",
    "            if status==0:    \n",
    "                g=[]\n",
    "\n",
    "                for id_key in data:\n",
    "                    if int(len(data[id_key]))== 5:\n",
    "                        #print(id_key[])\n",
    "\n",
    "\n",
    "\n",
    "                        from collections import namedtuple\n",
    "                        Tweet=namedtuple(\"Tweet\",[\"tweet_id\",\"username\",\"num_liked\",\"length\"])\n",
    "\n",
    "                        t=Tweet(id_key,data[id_key][\"username\"],data[id_key][\"num_liked\"],len(data[id_key][\"tweet_text\"]))\n",
    "                        if not type(data[id_key][\"num_liked\"])==int:\n",
    "                            data[id_key][\"num_liked\"]=0\n",
    "                            \n",
    "                            \n",
    "                        \n",
    "                        g.append(t)\n",
    "                return g\n"
   ]
  },
  {
   "cell_type": "code",
   "execution_count": 17,
   "metadata": {},
   "outputs": [
    {
     "data": {
      "text/plain": [
       "[Tweet(tweet_id='1467811372', username='USERID_6', num_liked=5882, length=29),\n",
       " Tweet(tweet_id='1467811592', username='USERID_8', num_liked=2676, length=11),\n",
       " Tweet(tweet_id='1467811594', username='USERID_9', num_liked=2182, length=99),\n",
       " Tweet(tweet_id='1467811795', username='USERID_1', num_liked=7791, length=36),\n",
       " Tweet(tweet_id='1467812025', username='USERID_1', num_liked=8149, length=25)]"
      ]
     },
     "execution_count": 17,
     "metadata": {},
     "output_type": "execute_result"
    }
   ],
   "source": [
    "#q6\n",
    "\n",
    "tweet_info(\"1.csv\",\"sample_data\")"
   ]
  },
  {
   "cell_type": "code",
   "execution_count": 18,
   "metadata": {
    "scrolled": true
   },
   "outputs": [
    {
     "data": {
      "text/plain": [
       "[Tweet(tweet_id='1467812799', username='USERID_7', num_liked=3340, length=103),\n",
       " Tweet(tweet_id='1467812964', username='USERID_10', num_liked=3684, length=93),\n",
       " Tweet(tweet_id='1467813137', username='USERID_5', num_liked=6816, length=20),\n",
       " Tweet(tweet_id='1467813579', username='USERID_1', num_liked=1348, length=64),\n",
       " Tweet(tweet_id='1467813782', username='USERID_1', num_liked=4770, length=79)]"
      ]
     },
     "execution_count": 18,
     "metadata": {},
     "output_type": "execute_result"
    }
   ],
   "source": [
    "#q7 \n",
    "tweet_info(\"2.csv\",\"sample_data\")"
   ]
  },
  {
   "cell_type": "code",
   "execution_count": 19,
   "metadata": {},
   "outputs": [
    {
     "data": {
      "text/plain": [
       "[Tweet(tweet_id='1467844540', username='USERID_9', num_liked=6366, length=49),\n",
       " Tweet(tweet_id='1467844907', username='USERID_3', num_liked=8770, length=42),\n",
       " Tweet(tweet_id='1467845095', username='USERID_4', num_liked=8567, length=126),\n",
       " Tweet(tweet_id='1467845157', username='USERID_8', num_liked=5761, length=17),\n",
       " Tweet(tweet_id='1467852031', username='USERID_2', num_liked=4565, length=63),\n",
       " Tweet(tweet_id='1467852067', username='USERID_4', num_liked=9594, length=34),\n",
       " Tweet(tweet_id='1467852789', username='USERID_10', num_liked=686, length=44),\n",
       " Tweet(tweet_id='1467853135', username='USERID_1', num_liked=6515, length=131),\n",
       " Tweet(tweet_id='1467853356', username='USERID_10', num_liked=3192, length=136),\n",
       " Tweet(tweet_id='1467853431', username='USERID_10', num_liked=9936, length=30),\n",
       " Tweet(tweet_id='1467853479', username='USERID_9', num_liked=4939, length=24),\n",
       " Tweet(tweet_id='1467854062', username='USERID_10', num_liked=9346, length=92),\n",
       " Tweet(tweet_id='1467854345', username='USERID_9', num_liked=7959, length=72),\n",
       " Tweet(tweet_id='1467854706', username='USERID_1', num_liked=8972, length=103),\n",
       " Tweet(tweet_id='1467854917', username='USERID_2', num_liked=7741, length=30),\n",
       " Tweet(tweet_id='1467855673', username='USERID_9', num_liked=9728, length=72),\n",
       " Tweet(tweet_id='1467855812', username='USERID_2', num_liked=4806, length=28),\n",
       " Tweet(tweet_id='1467855981', username='USERID_2', num_liked=6455, length=92),\n",
       " Tweet(tweet_id='1467856044', username='USERID_7', num_liked=1442, length=49),\n",
       " Tweet(tweet_id='1467856352', username='USERID_3', num_liked=523, length=20),\n",
       " Tweet(tweet_id='1467856426', username='USERID_6', num_liked=8675, length=99),\n",
       " Tweet(tweet_id='1467856497', username='USERID_7', num_liked=3105, length=79),\n",
       " Tweet(tweet_id='1467856632', username='USERID_1', num_liked=1724, length=43),\n",
       " Tweet(tweet_id='1467856821', username='USERID_6', num_liked=5145, length=80),\n",
       " Tweet(tweet_id='1467856919', username='USERID_4', num_liked=3887, length=61),\n",
       " Tweet(tweet_id='1467857221', username='USERID_5', num_liked=3589, length=102),\n",
       " Tweet(tweet_id='1467857297', username='USERID_1', num_liked=736, length=70),\n",
       " Tweet(tweet_id='1467857378', username='USERID_4', num_liked=9459, length=81),\n",
       " Tweet(tweet_id='1467857511', username='USERID_7', num_liked=3713, length=127),\n",
       " Tweet(tweet_id='1467857722', username='USERID_8', num_liked=9072, length=55),\n",
       " Tweet(tweet_id='1467857975', username='USERID_9', num_liked=4893, length=21),\n",
       " Tweet(tweet_id='1467858363', username='USERID_10', num_liked=4263, length=119),\n",
       " Tweet(tweet_id='1467858627', username='USERID_3', num_liked=8400, length=120),\n",
       " Tweet(tweet_id='1467858869', username='USERID_10', num_liked=1609, length=48),\n",
       " Tweet(tweet_id='1467859025', username='USERID_4', num_liked=5618, length=81),\n",
       " Tweet(tweet_id='1467859066', username='USERID_9', num_liked=99, length=53),\n",
       " Tweet(tweet_id='1467859408', username='USERID_5', num_liked=2878, length=128),\n",
       " Tweet(tweet_id='1467859436', username='USERID_7', num_liked=8001, length=67),\n",
       " Tweet(tweet_id='1467859558', username='USERID_1', num_liked=8732, length=136),\n",
       " Tweet(tweet_id='1467859666', username='USERID_9', num_liked=9158, length=16),\n",
       " Tweet(tweet_id='1467859820', username='USERID_10', num_liked=7921, length=27),\n",
       " Tweet(tweet_id='1467859922', username='USERID_6', num_liked=3955, length=120),\n",
       " Tweet(tweet_id='1467860895', username='USERID_1', num_liked=2055, length=18),\n",
       " Tweet(tweet_id='1467860904', username='USERID_7', num_liked=9851, length=30),\n",
       " Tweet(tweet_id='1467861095', username='USERID_10', num_liked=7191, length=38),\n",
       " Tweet(tweet_id='1467861522', username='USERID_1', num_liked=2742, length=70),\n",
       " Tweet(tweet_id='1467861571', username='USERID_1', num_liked=7095, length=84),\n",
       " Tweet(tweet_id='1467862213', username='USERID_2', num_liked=2455, length=138),\n",
       " Tweet(tweet_id='1467862313', username='USERID_10', num_liked=3256, length=127),\n",
       " Tweet(tweet_id='1467862355', username='USERID_3', num_liked=4110, length=53)]"
      ]
     },
     "execution_count": 19,
     "metadata": {},
     "output_type": "execute_result"
    }
   ],
   "source": [
    "#q8\n",
    "tweet_info(\"1.csv\",\"full_data\")"
   ]
  },
  {
   "cell_type": "code",
   "execution_count": 20,
   "metadata": {
    "scrolled": true
   },
   "outputs": [
    {
     "data": {
      "text/plain": [
       "[Tweet(tweet_id='1467876711', username='USERID_10', num_liked=1117, length=84),\n",
       " Tweet(tweet_id='1467877496', username='USERID_1', num_liked=2062, length=106),\n",
       " Tweet(tweet_id='1467877833', username='USERID_2', num_liked=4270, length=89),\n",
       " Tweet(tweet_id='1467877865', username='USERID_1', num_liked=5899, length=30),\n",
       " Tweet(tweet_id='1467878057', username='USERID_6', num_liked=703, length=42),\n",
       " Tweet(tweet_id='1467878557', username='USERID_6', num_liked=5814, length=61),\n",
       " Tweet(tweet_id='1467878633', username='USERID_2', num_liked=2351, length=33),\n",
       " Tweet(tweet_id='1467878971', username='USERID_2', num_liked=2238, length=27),\n",
       " Tweet(tweet_id='1467878983', username='USERID_8', num_liked=4860, length=61),\n",
       " Tweet(tweet_id='1467879480', username='USERID_4', num_liked=1345, length=97),\n",
       " Tweet(tweet_id='1467879984', username='USERID_2', num_liked=3694, length=69),\n",
       " Tweet(tweet_id='1467880085', username='USERID_4', num_liked=2478, length=120),\n",
       " Tweet(tweet_id='1467880431', username='USERID_3', num_liked=9407, length=85),\n",
       " Tweet(tweet_id='1467880442', username='USERID_2', num_liked=5125, length=96),\n",
       " Tweet(tweet_id='1467880463', username='USERID_9', num_liked=1226, length=29),\n",
       " Tweet(tweet_id='1467880692', username='USERID_6', num_liked=4989, length=49),\n",
       " Tweet(tweet_id='1467881131', username='USERID_10', num_liked=732, length=107),\n",
       " Tweet(tweet_id='1467881373', username='USERID_6', num_liked=8615, length=145),\n",
       " Tweet(tweet_id='1467881376', username='USERID_4', num_liked=4378, length=49),\n",
       " Tweet(tweet_id='1467881457', username='USERID_7', num_liked=119, length=27),\n",
       " Tweet(tweet_id='1467881686', username='USERID_5', num_liked=8136, length=46),\n",
       " Tweet(tweet_id='1467881809', username='USERID_4', num_liked=1797, length=138),\n",
       " Tweet(tweet_id='1467881897', username='USERID_5', num_liked=2314, length=76),\n",
       " Tweet(tweet_id='1467881920', username='USERID_3', num_liked=4101, length=112),\n",
       " Tweet(tweet_id='1467882140', username='USERID_8', num_liked=5320, length=137),\n",
       " Tweet(tweet_id='1467882491', username='USERID_10', num_liked=3512, length=55),\n",
       " Tweet(tweet_id='1467882592', username='USERID_10', num_liked=1887, length=67),\n",
       " Tweet(tweet_id='1467882902', username='USERID_3', num_liked=4646, length=48),\n",
       " Tweet(tweet_id='1467888679', username='USERID_8', num_liked=3089, length=27),\n",
       " Tweet(tweet_id='1467888732', username='USERID_7', num_liked=2800, length=48),\n",
       " Tweet(tweet_id='1467888953', username='USERID_3', num_liked=3951, length=46),\n",
       " Tweet(tweet_id='1467889231', username='USERID_5', num_liked=1320, length=79),\n",
       " Tweet(tweet_id='1467889334', username='USERID_5', num_liked=8495, length=42),\n",
       " Tweet(tweet_id='1467889574', username='USERID_1', num_liked=4696, length=123),\n",
       " Tweet(tweet_id='1467889791', username='USERID_5', num_liked=4027, length=132),\n",
       " Tweet(tweet_id='1467889988', username='USERID_2', num_liked=7394, length=51),\n",
       " Tweet(tweet_id='1467890079', username='USERID_8', num_liked=2556, length=38),\n",
       " Tweet(tweet_id='1467890222', username='USERID_2', num_liked=227, length=107),\n",
       " Tweet(tweet_id='1467890723', username='USERID_1', num_liked=96, length=134),\n",
       " Tweet(tweet_id='1467891826', username='USERID_9', num_liked=2021, length=113),\n",
       " Tweet(tweet_id='1467891880', username='USERID_7', num_liked=6847, length=96),\n",
       " Tweet(tweet_id='1467892075', username='USERID_6', num_liked=2816, length=124),\n",
       " Tweet(tweet_id='1467892515', username='USERID_5', num_liked=917, length=39),\n",
       " Tweet(tweet_id='1467892667', username='USERID_2', num_liked=8270, length=20),\n",
       " Tweet(tweet_id='1467892720', username='USERID_3', num_liked=3227, length=128)]"
      ]
     },
     "execution_count": 20,
     "metadata": {},
     "output_type": "execute_result"
    }
   ],
   "source": [
    "#q9\n",
    "tweet_info(\"2.csv\",\"full_data\")"
   ]
  },
  {
   "cell_type": "code",
   "execution_count": null,
   "metadata": {},
   "outputs": [],
   "source": []
  },
  {
   "cell_type": "code",
   "execution_count": 21,
   "metadata": {
    "scrolled": true
   },
   "outputs": [
    {
     "data": {
      "text/plain": [
       "[Tweet(tweet_id='1467810369', username='USERID_4', num_liked=315, length=115),\n",
       " Tweet(tweet_id='1467810672', username='USERID_8', num_liked=5298, length=111),\n",
       " Tweet(tweet_id='1467810917', username='USERID_8', num_liked=533, length=89),\n",
       " Tweet(tweet_id='1467811184', username='USERID_6', num_liked=2650, length=47),\n",
       " Tweet(tweet_id='1467811193', username='USERID_8', num_liked=2101, length=111)]"
      ]
     },
     "execution_count": 21,
     "metadata": {},
     "output_type": "execute_result"
    }
   ],
   "source": [
    "#In jason: id is key and the rest is in dic\n",
    "#q10\n",
    "tweet_info(\"1.json\",\"sample_data\")"
   ]
  },
  {
   "cell_type": "code",
   "execution_count": 22,
   "metadata": {},
   "outputs": [
    {
     "data": {
      "text/plain": [
       "[Tweet(tweet_id='1467812416', username='USERID_9', num_liked=5278, length=43),\n",
       " Tweet(tweet_id='1467812579', username='USERID_1', num_liked=9700, length=26),\n",
       " Tweet(tweet_id='1467812723', username='USERID_3', num_liked=5414, length=94),\n",
       " Tweet(tweet_id='1467812771', username='USERID_8', num_liked=2190, length=77),\n",
       " Tweet(tweet_id='1467812784', username='USERID_10', num_liked=2667, length=117)]"
      ]
     },
     "execution_count": 22,
     "metadata": {},
     "output_type": "execute_result"
    }
   ],
   "source": [
    "#q11\n",
    "tweet_info(\"2.json\",\"sample_data\")"
   ]
  },
  {
   "cell_type": "code",
   "execution_count": 23,
   "metadata": {},
   "outputs": [
    {
     "name": "stdout",
     "output_type": "stream",
     "text": [
      "Tweet(tweet_id='1467812416', username='USERID_9', num_liked=5278, length=43)\n"
     ]
    },
    {
     "data": {
      "text/plain": [
       "'1467812416'"
      ]
     },
     "execution_count": 23,
     "metadata": {},
     "output_type": "execute_result"
    }
   ],
   "source": [
    "#test\n",
    "m=tweet_info(\"2.json\",\"sample_data\")[0]\n",
    "print(m)\n",
    "m.tweet_id"
   ]
  },
  {
   "cell_type": "code",
   "execution_count": 24,
   "metadata": {},
   "outputs": [
    {
     "data": {
      "text/plain": [
       "[Tweet(tweet_id='1467944581', username='USERID_1', num_liked=7216, length=131),\n",
       " Tweet(tweet_id='1467944654', username='USERID_7', num_liked=2838, length=59),\n",
       " Tweet(tweet_id='1467944871', username='USERID_1', num_liked=9393, length=51),\n",
       " Tweet(tweet_id='1467945476', username='USERID_10', num_liked=9246, length=33),\n",
       " Tweet(tweet_id='1467945704', username='USERID_1', num_liked=526, length=62),\n",
       " Tweet(tweet_id='1467945787', username='USERID_9', num_liked=8850, length=81),\n",
       " Tweet(tweet_id='1467945885', username='USERID_4', num_liked=9403, length=67),\n",
       " Tweet(tweet_id='1467946026', username='USERID_1', num_liked=2861, length=69),\n",
       " Tweet(tweet_id='1467946137', username='USERID_1', num_liked=5470, length=135),\n",
       " Tweet(tweet_id='1467946559', username='USERID_6', num_liked=987, length=116),\n",
       " Tweet(tweet_id='1467946592', username='USERID_3', num_liked=9085, length=137),\n",
       " Tweet(tweet_id='1467946749', username='USERID_4', num_liked=3381, length=42),\n",
       " Tweet(tweet_id='1467946810', username='USERID_4', num_liked=5338, length=62),\n",
       " Tweet(tweet_id='1467947005', username='USERID_7', num_liked=6974, length=53),\n",
       " Tweet(tweet_id='1467947104', username='USERID_6', num_liked=5847, length=24),\n",
       " Tweet(tweet_id='1467947557', username='USERID_9', num_liked=8449, length=110),\n",
       " Tweet(tweet_id='1467947713', username='USERID_7', num_liked=7444, length=140),\n",
       " Tweet(tweet_id='1467947913', username='USERID_2', num_liked=8578, length=36),\n",
       " Tweet(tweet_id='1467948169', username='USERID_1', num_liked=4545, length=33),\n",
       " Tweet(tweet_id='1467948434', username='USERID_9', num_liked=770, length=53),\n",
       " Tweet(tweet_id='1467948521', username='USERID_4', num_liked=8276, length=100),\n",
       " Tweet(tweet_id='1467948526', username='USERID_3', num_liked=7010, length=64),\n",
       " Tweet(tweet_id='1467948979', username='USERID_10', num_liked=9209, length=93),\n",
       " Tweet(tweet_id='1467949047', username='USERID_3', num_liked=7231, length=30),\n",
       " Tweet(tweet_id='1467949516', username='USERID_3', num_liked=4787, length=104),\n",
       " Tweet(tweet_id='1467949681', username='USERID_5', num_liked=5318, length=36),\n",
       " Tweet(tweet_id='1467949746', username='USERID_8', num_liked=4383, length=8),\n",
       " Tweet(tweet_id='1467949969', username='USERID_3', num_liked=1177, length=80),\n",
       " Tweet(tweet_id='1467950027', username='USERID_10', num_liked=8575, length=26),\n",
       " Tweet(tweet_id='1467950029', username='USERID_1', num_liked=7362, length=119),\n",
       " Tweet(tweet_id='1467950217', username='USERID_7', num_liked=1241, length=63),\n",
       " Tweet(tweet_id='1467950510', username='USERID_7', num_liked=5002, length=34),\n",
       " Tweet(tweet_id='1467950588', username='USERID_4', num_liked=589, length=63),\n",
       " Tweet(tweet_id='1467950600', username='USERID_3', num_liked=5951, length=71),\n",
       " Tweet(tweet_id='1467950649', username='USERID_7', num_liked=9449, length=46),\n",
       " Tweet(tweet_id='1467950687', username='USERID_3', num_liked=3464, length=70),\n",
       " Tweet(tweet_id='1467950866', username='USERID_4', num_liked=122, length=27),\n",
       " Tweet(tweet_id='1467950975', username='USERID_3', num_liked=6793, length=74),\n",
       " Tweet(tweet_id='1467951016', username='USERID_5', num_liked=7795, length=80),\n",
       " Tweet(tweet_id='1467951035', username='USERID_9', num_liked=3477, length=114),\n",
       " Tweet(tweet_id='1467951252', username='USERID_2', num_liked=7515, length=48),\n",
       " Tweet(tweet_id='1467951422', username='USERID_6', num_liked=2520, length=98),\n",
       " Tweet(tweet_id='1467951568', username='USERID_8', num_liked=39, length=98),\n",
       " Tweet(tweet_id='1467951850', username='USERID_8', num_liked=1170, length=29),\n",
       " Tweet(tweet_id='1467951931', username='USERID_4', num_liked=5320, length=81),\n",
       " Tweet(tweet_id='1467952069', username='USERID_7', num_liked=399, length=24),\n",
       " Tweet(tweet_id='1467952100', username='USERID_1', num_liked=2754, length=69),\n",
       " Tweet(tweet_id='1467952123', username='USERID_9', num_liked=9222, length=137),\n",
       " Tweet(tweet_id='1467952985', username='USERID_4', num_liked=6256, length=118),\n",
       " Tweet(tweet_id='1467953090', username='USERID_2', num_liked=1896, length=64)]"
      ]
     },
     "execution_count": 24,
     "metadata": {},
     "output_type": "execute_result"
    }
   ],
   "source": [
    "#q12\n",
    "tweet_info(\"5.json\",\"full_data\")"
   ]
  },
  {
   "cell_type": "code",
   "execution_count": 25,
   "metadata": {},
   "outputs": [
    {
     "data": {
      "text/plain": [
       "[]"
      ]
     },
     "execution_count": 25,
     "metadata": {},
     "output_type": "execute_result"
    }
   ],
   "source": [
    "#q13\n",
    "tweet_info(\"1.json\",\"full_data\")"
   ]
  },
  {
   "cell_type": "code",
   "execution_count": 26,
   "metadata": {},
   "outputs": [],
   "source": [
    "#list every tweet info\n",
    "#find the right one \n",
    "#return path \n",
    "\n",
    "def find_id(data_set,info):\n",
    "    \n",
    "    \n",
    "    files=get_file_filter(data_set)\n",
    "    \n",
    "    for single_file in files:\n",
    "        tweet_list=tweet_info(single_file,data_set)\n",
    "        #print(tweet_list)\n",
    "           \n",
    "        for tweet in tweet_list:\n",
    "            #print(tweet)\n",
    "            #print(t.tweet_id)\n",
    "            \n",
    "            if tweet.tweet_id==info:\n",
    "                \n",
    "                \n",
    "                path = os.path.join(data_set,single_file )\n",
    "                \n",
    "                return path\n",
    "        \n",
    "    return False\n",
    "   \n",
    "    \n",
    "    \n",
    "\n",
    "\n",
    "   \n"
   ]
  },
  {
   "cell_type": "code",
   "execution_count": 27,
   "metadata": {},
   "outputs": [
    {
     "data": {
      "text/plain": [
       "'sample_data/2.csv'"
      ]
     },
     "execution_count": 27,
     "metadata": {},
     "output_type": "execute_result"
    }
   ],
   "source": [
    "#q14\n",
    "find_id(\"sample_data\",\"1467813137\") "
   ]
  },
  {
   "cell_type": "code",
   "execution_count": 28,
   "metadata": {},
   "outputs": [
    {
     "data": {
      "text/plain": [
       "False"
      ]
     },
     "execution_count": 28,
     "metadata": {},
     "output_type": "execute_result"
    }
   ],
   "source": [
    "#q15\n",
    "find_id(\"full_data\",\"1467862937\") "
   ]
  },
  {
   "cell_type": "code",
   "execution_count": 29,
   "metadata": {},
   "outputs": [
    {
     "data": {
      "text/plain": [
       "'full_data/3.csv'"
      ]
     },
     "execution_count": 29,
     "metadata": {},
     "output_type": "execute_result"
    }
   ],
   "source": [
    "#q16\n",
    "find_id(\"full_data\",\"1467907751\") "
   ]
  },
  {
   "cell_type": "code",
   "execution_count": 30,
   "metadata": {},
   "outputs": [],
   "source": [
    "def find_user(data_set,info):\n",
    "    files=get_file_filter(data_set)\n",
    "    path_list=[]\n",
    "    \n",
    "    for single_file in files:\n",
    "        tweet_list=tweet_info(single_file,data_set)\n",
    "                 \n",
    "        for tweet in tweet_list:\n",
    "            #print(tweet)\n",
    "            #print(t.tweet_id)\n",
    "            \n",
    "            if tweet.username==info:\n",
    "                #print(tweet)\n",
    "                               \n",
    "                path = os.path.join(data_set,single_file )\n",
    "                if path not in path_list:\n",
    "                \n",
    "                    path_list.append(path)\n",
    "                \n",
    "                result=path_list\n",
    "            else:\n",
    "        \n",
    "                result=False \n",
    "    \n",
    "    return result\n",
    "    "
   ]
  },
  {
   "cell_type": "code",
   "execution_count": 31,
   "metadata": {},
   "outputs": [
    {
     "data": {
      "text/plain": [
       "['sample_data/2.json', 'sample_data/2.csv', 'sample_data/1.csv']"
      ]
     },
     "execution_count": 31,
     "metadata": {},
     "output_type": "execute_result"
    }
   ],
   "source": [
    "#q17\n",
    "find_user(\"sample_data\",\"USERID_1\")"
   ]
  },
  {
   "cell_type": "code",
   "execution_count": null,
   "metadata": {},
   "outputs": [],
   "source": []
  },
  {
   "cell_type": "code",
   "execution_count": null,
   "metadata": {},
   "outputs": [],
   "source": [
    "\n",
    "                \n",
    "    \n",
    " "
   ]
  },
  {
   "cell_type": "code",
   "execution_count": 32,
   "metadata": {},
   "outputs": [],
   "source": [
    "def sort_factor_id(s):\n",
    "    s = s.tweet_id\n",
    "    return s\n",
    "\n",
    "def get_tweet(data_set,order,term=None):    \n",
    "    final=[]\n",
    "    tuple_pair=[]\n",
    "    m=[]\n",
    "   \n",
    "    files=get_file_filter(data_set)\n",
    "    #print(files)\n",
    "    for file in files:\n",
    "        whole_file_tweet=tweet_info(file,data_set)\n",
    "        for each in whole_file_tweet:\n",
    "            if type(each.num_liked)!= int:\n",
    "                str = each.num_liked\n",
    "                if \"k\" in str and not str==\"unkown\":\n",
    "                    s1=int(str[0:3]+\"000\" )    \n",
    "                if \"B\" in str and not str==\"unkown\":\n",
    "                    s1=int(str[0:3]+\"000000000\")\n",
    "                if \"M\" in str and not str==\"unkown\":\n",
    "                    s1=int(str[0:3]+\"000000\")\n",
    "                if str == \"unkown\":\n",
    "                    s1 = 0\n",
    "                re = Tweet(each.tweet_id, each.username, s1, each.length)\n",
    "                final.append(re)\n",
    "            else:\n",
    "                final.append(each)\n",
    "    #print(final)       \n",
    "    final = sorted(final, key=term,reverse=order)\n",
    "            \n",
    "    return final "
   ]
  },
  {
   "cell_type": "code",
   "execution_count": 33,
   "metadata": {},
   "outputs": [
    {
     "data": {
      "text/plain": [
       "[Tweet(tweet_id='1467810369', username='USERID_4', num_liked=315, length=115),\n",
       " Tweet(tweet_id='1467810672', username='USERID_8', num_liked=5298, length=111),\n",
       " Tweet(tweet_id='1467810917', username='USERID_8', num_liked=533, length=89),\n",
       " Tweet(tweet_id='1467811184', username='USERID_6', num_liked=2650, length=47),\n",
       " Tweet(tweet_id='1467811193', username='USERID_8', num_liked=2101, length=111),\n",
       " Tweet(tweet_id='1467811372', username='USERID_6', num_liked=5882, length=29),\n",
       " Tweet(tweet_id='1467811592', username='USERID_8', num_liked=2676, length=11),\n",
       " Tweet(tweet_id='1467811594', username='USERID_9', num_liked=2182, length=99),\n",
       " Tweet(tweet_id='1467811795', username='USERID_1', num_liked=7791, length=36),\n",
       " Tweet(tweet_id='1467812025', username='USERID_1', num_liked=8149, length=25),\n",
       " Tweet(tweet_id='1467812416', username='USERID_9', num_liked=5278, length=43),\n",
       " Tweet(tweet_id='1467812579', username='USERID_1', num_liked=9700, length=26),\n",
       " Tweet(tweet_id='1467812723', username='USERID_3', num_liked=5414, length=94),\n",
       " Tweet(tweet_id='1467812771', username='USERID_8', num_liked=2190, length=77),\n",
       " Tweet(tweet_id='1467812784', username='USERID_10', num_liked=2667, length=117),\n",
       " Tweet(tweet_id='1467812799', username='USERID_7', num_liked=3340, length=103),\n",
       " Tweet(tweet_id='1467812964', username='USERID_10', num_liked=3684, length=93),\n",
       " Tweet(tweet_id='1467813137', username='USERID_5', num_liked=6816, length=20),\n",
       " Tweet(tweet_id='1467813579', username='USERID_1', num_liked=1348, length=64),\n",
       " Tweet(tweet_id='1467813782', username='USERID_1', num_liked=4770, length=79)]"
      ]
     },
     "execution_count": 33,
     "metadata": {},
     "output_type": "execute_result"
    }
   ],
   "source": [
    "#q18\n",
    "get_tweet(\"sample_data\",False,sort_factor_id)   \n"
   ]
  },
  {
   "cell_type": "code",
   "execution_count": 34,
   "metadata": {},
   "outputs": [],
   "source": [
    "def sort_factor_num_liked(s):\n",
    "    if not type(s.num_liked)==int:\n",
    "        s1 = 0\n",
    "        str = s.num_liked\n",
    "        if \"k\" in str and not str==\"unkown\":\n",
    "            s1=str[0:3]+\"000\"     \n",
    "        if \"B\" in str and not str==\"unkown\":\n",
    "            s1=int(str[0:3]+\"000000000\")\n",
    "        if \"M\" in str and not str==\"unkown\":\n",
    "            s1=int(str[0:3]+\"000000\")\n",
    "        #print(s1)\n",
    "        return int(s1)\n",
    "    else:\n",
    "        s=s.num_liked\n",
    "        #print(s)\n",
    "        return s\n"
   ]
  },
  {
   "cell_type": "code",
   "execution_count": 35,
   "metadata": {},
   "outputs": [
    {
     "data": {
      "text/plain": [
       "[Tweet(tweet_id='1467812579', username='USERID_1', num_liked=9700, length=26),\n",
       " Tweet(tweet_id='1467812025', username='USERID_1', num_liked=8149, length=25),\n",
       " Tweet(tweet_id='1467811795', username='USERID_1', num_liked=7791, length=36),\n",
       " Tweet(tweet_id='1467813137', username='USERID_5', num_liked=6816, length=20),\n",
       " Tweet(tweet_id='1467811372', username='USERID_6', num_liked=5882, length=29),\n",
       " Tweet(tweet_id='1467812723', username='USERID_3', num_liked=5414, length=94),\n",
       " Tweet(tweet_id='1467810672', username='USERID_8', num_liked=5298, length=111),\n",
       " Tweet(tweet_id='1467812416', username='USERID_9', num_liked=5278, length=43),\n",
       " Tweet(tweet_id='1467813782', username='USERID_1', num_liked=4770, length=79),\n",
       " Tweet(tweet_id='1467812964', username='USERID_10', num_liked=3684, length=93),\n",
       " Tweet(tweet_id='1467812799', username='USERID_7', num_liked=3340, length=103),\n",
       " Tweet(tweet_id='1467811592', username='USERID_8', num_liked=2676, length=11),\n",
       " Tweet(tweet_id='1467812784', username='USERID_10', num_liked=2667, length=117),\n",
       " Tweet(tweet_id='1467811184', username='USERID_6', num_liked=2650, length=47),\n",
       " Tweet(tweet_id='1467812771', username='USERID_8', num_liked=2190, length=77),\n",
       " Tweet(tweet_id='1467811594', username='USERID_9', num_liked=2182, length=99),\n",
       " Tweet(tweet_id='1467811193', username='USERID_8', num_liked=2101, length=111),\n",
       " Tweet(tweet_id='1467813579', username='USERID_1', num_liked=1348, length=64),\n",
       " Tweet(tweet_id='1467810917', username='USERID_8', num_liked=533, length=89),\n",
       " Tweet(tweet_id='1467810369', username='USERID_4', num_liked=315, length=115)]"
      ]
     },
     "execution_count": 35,
     "metadata": {},
     "output_type": "execute_result"
    }
   ],
   "source": [
    "#q19\n",
    "get_tweet(\"sample_data\",True, sort_factor_num_liked)  "
   ]
  },
  {
   "cell_type": "code",
   "execution_count": 36,
   "metadata": {},
   "outputs": [
    {
     "data": {
      "text/plain": [
       "[Tweet(tweet_id='1467894593', username='USERID_2', num_liked=869000000, length=136),\n",
       " Tweet(tweet_id='1467894600', username='USERID_8', num_liked=915000, length=67),\n",
       " Tweet(tweet_id='1467853431', username='USERID_10', num_liked=9936, length=30),\n",
       " Tweet(tweet_id='1467875163', username='USERID_2', num_liked=9891, length=69),\n",
       " Tweet(tweet_id='1467860904', username='USERID_7', num_liked=9851, length=30),\n",
       " Tweet(tweet_id='1467928014', username='USERID_7', num_liked=9830, length=18),\n",
       " Tweet(tweet_id='1467895048', username='USERID_10', num_liked=9822, length=136),\n",
       " Tweet(tweet_id='1467966646', username='USERID_7', num_liked=9821, length=47),\n",
       " Tweet(tweet_id='1467855673', username='USERID_9', num_liked=9728, length=72),\n",
       " Tweet(tweet_id='1467898078', username='USERID_10', num_liked=9705, length=104),\n",
       " Tweet(tweet_id='1467928300', username='USERID_9', num_liked=9681, length=79),\n",
       " Tweet(tweet_id='1467917177', username='USERID_3', num_liked=9678, length=105),\n",
       " Tweet(tweet_id='1467923235', username='USERID_9', num_liked=9662, length=134),\n",
       " Tweet(tweet_id='1467964211', username='USERID_4', num_liked=9618, length=79),\n",
       " Tweet(tweet_id='1467873980', username='USERID_5', num_liked=9608, length=88),\n",
       " Tweet(tweet_id='1467852067', username='USERID_4', num_liked=9594, length=34),\n",
       " Tweet(tweet_id='1467863633', username='USERID_9', num_liked=9549, length=95),\n",
       " Tweet(tweet_id='1467953733', username='USERID_4', num_liked=9526, length=67),\n",
       " Tweet(tweet_id='1467862806', username='USERID_2', num_liked=9465, length=68),\n",
       " Tweet(tweet_id='1467954070', username='USERID_8', num_liked=9462, length=64)]"
      ]
     },
     "execution_count": 36,
     "metadata": {},
     "output_type": "execute_result"
    }
   ],
   "source": [
    "#q20\n",
    "get_tweet(\"full_data\",True,sort_factor_num_liked)[0:20]"
   ]
  },
  {
   "cell_type": "code",
   "execution_count": null,
   "metadata": {},
   "outputs": [],
   "source": []
  },
  {
   "cell_type": "code",
   "execution_count": 37,
   "metadata": {},
   "outputs": [],
   "source": [
    "#Start of Stage 2 \n",
    "##########\n",
    "##########\n",
    "##########"
   ]
  },
  {
   "cell_type": "code",
   "execution_count": 38,
   "metadata": {},
   "outputs": [],
   "source": [
    "%matplotlib inline"
   ]
  },
  {
   "cell_type": "code",
   "execution_count": 39,
   "metadata": {},
   "outputs": [],
   "source": [
    "import pandas as pd\n",
    "\n",
    "def scatter(x, y, xlabel=\"please label me!\", ylabel=\"please label me!\"):\n",
    "    df = pd.DataFrame({\"x\":x, \"y\":y})\n",
    "    ax = df.plot.scatter(x=\"x\", y=\"y\", color=\"black\", fontsize=16, xlim=0, ylim=0)\n",
    "    ax.set_xlabel(xlabel, fontsize=16)\n",
    "    ax.set_ylabel(ylabel, fontsize=16)\n",
    "    ax.get_xaxis().get_major_formatter().set_scientific(False)\n",
    "    ax.get_yaxis().get_major_formatter().set_scientific(False)"
   ]
  },
  {
   "cell_type": "code",
   "execution_count": 40,
   "metadata": {},
   "outputs": [],
   "source": [
    "def all_file_tweet(data_1):\n",
    "    data_1=get_tweet(data_1,True,sort_factor_id)\n",
    "    l=[]\n",
    "    for each in data_1:\n",
    "        if each not in l:\n",
    "            l.append(each)\n",
    "    return l   \n",
    "\n",
    "def count_tweet(data_1):\n",
    "    return len(all_file_tweet(data_1))\n",
    "    \n",
    "    return l"
   ]
  },
  {
   "cell_type": "code",
   "execution_count": 41,
   "metadata": {},
   "outputs": [
    {
     "data": {
      "text/plain": [
       "445"
      ]
     },
     "execution_count": 41,
     "metadata": {},
     "output_type": "execute_result"
    }
   ],
   "source": [
    "#q21\n",
    "count_tweet(\"full_data\")\n"
   ]
  },
  {
   "cell_type": "code",
   "execution_count": 42,
   "metadata": {},
   "outputs": [
    {
     "data": {
      "text/plain": [
       "{'USERID_1',\n",
       " 'USERID_10',\n",
       " 'USERID_2',\n",
       " 'USERID_3',\n",
       " 'USERID_4',\n",
       " 'USERID_5',\n",
       " 'USERID_6',\n",
       " 'USERID_7',\n",
       " 'USERID_8',\n",
       " 'USERID_9'}"
      ]
     },
     "execution_count": 42,
     "metadata": {},
     "output_type": "execute_result"
    }
   ],
   "source": [
    "#q22\n",
    "\n",
    "m=[]\n",
    "a=all_file_tweet(\"full_data\")\n",
    "#print(a)\n",
    "for each in a:\n",
    "    #print(each.username)\n",
    "    m.append(each.username)\n",
    "s=set(m)\n",
    "s"
   ]
  },
  {
   "cell_type": "code",
   "execution_count": 43,
   "metadata": {},
   "outputs": [
    {
     "data": {
      "text/plain": [
       "{'USERID_2': 47,\n",
       " 'USERID_8': 31,\n",
       " 'USERID_6': 51,\n",
       " 'USERID_7': 55,\n",
       " 'USERID_1': 52,\n",
       " 'USERID_5': 46,\n",
       " 'USERID_4': 35,\n",
       " 'USERID_9': 44,\n",
       " 'USERID_10': 45,\n",
       " 'USERID_3': 39}"
      ]
     },
     "execution_count": 43,
     "metadata": {},
     "output_type": "execute_result"
    }
   ],
   "source": [
    "#key=username value=num of tweet\n",
    "#q23\n",
    "\n",
    "num_tweet={}\n",
    "a=all_file_tweet(\"full_data\")\n",
    "for tweet in a:\n",
    "    if tweet.username not in num_tweet:\n",
    "        \n",
    "        num_tweet[tweet.username]=1\n",
    "    else:\n",
    "        num_tweet[tweet.username]+=1\n",
    "num_tweet"
   ]
  },
  {
   "cell_type": "code",
   "execution_count": 44,
   "metadata": {},
   "outputs": [
    {
     "data": {
      "text/plain": [
       "{'USERID_2': 18494258.80851064,\n",
       " 'USERID_8': 34463.45161290323,\n",
       " 'USERID_6': 4559.588235294118,\n",
       " 'USERID_7': 5079.436363636363,\n",
       " 'USERID_1': 4369.115384615385,\n",
       " 'USERID_5': 4583.130434782609,\n",
       " 'USERID_4': 4578.8,\n",
       " 'USERID_9': 5334.386363636364,\n",
       " 'USERID_10': 5728.777777777777,\n",
       " 'USERID_3': 5023.820512820513}"
      ]
     },
     "execution_count": 44,
     "metadata": {},
     "output_type": "execute_result"
    }
   ],
   "source": [
    "#q24\n",
    "#key=username, value=numliked/count\n",
    "m={}\n",
    "\n",
    "data_1=get_tweet(\"full_data\", True, sort_factor_id)\n",
    "a=[]\n",
    "for each in data_1:\n",
    "    if each not in a:\n",
    "        a.append(each)\n",
    "\n",
    "for tweet in a:\n",
    "    like=tweet.num_liked\n",
    "    if not type(like)==int:\n",
    "        if \"k\" in like and not like==\"unkown\":\n",
    "            \n",
    "            like=like[0:3]+\"000\"     \n",
    "            \n",
    "        if \"B\" in like and not like==\"unkown\":\n",
    "            like=int(like[0:3]+\"000000000\")\n",
    "        if \"M\" in like and not like==\"unkown\":\n",
    "            like=int(like[0:3]+\"000000\")\n",
    "                \n",
    "    #print(type(like))\n",
    "    if tweet.username not in m:\n",
    "        if like==\"unkown\": \n",
    "            m[tweet.username]=[0,count,sort_factor_num_liked]\n",
    "        else:\n",
    "            count=1\n",
    "            m[tweet.username]=[int(like),count,sort_factor_num_liked]\n",
    "    else:\n",
    "        if like==\"unkown\": \n",
    "            count+=1\n",
    "            m[tweet.username][0]+=0\n",
    "            m[tweet.username][1]+=1\n",
    "        else:\n",
    "            like=int(like)\n",
    "            count+=1\n",
    "            m[tweet.username][0]+=like\n",
    "            m[tweet.username][1]+=1\n",
    "\n",
    "num_likes={}\n",
    "for user in m:\n",
    "    num_likes[user] = m[user][0]/m[user][1]\n",
    "\n",
    "num_likes"
   ]
  },
  {
   "cell_type": "code",
   "execution_count": 45,
   "metadata": {},
   "outputs": [
    {
     "data": {
      "text/plain": [
       "{'USERID_2': 79.51063829787235,\n",
       " 'USERID_8': 73.96774193548387,\n",
       " 'USERID_6': 73.68627450980392,\n",
       " 'USERID_7': 72.96363636363637,\n",
       " 'USERID_1': 81.86538461538461,\n",
       " 'USERID_5': 73.69565217391305,\n",
       " 'USERID_4': 73.91428571428571,\n",
       " 'USERID_9': 78.36363636363636,\n",
       " 'USERID_10': 72.71111111111111,\n",
       " 'USERID_3': 67.15384615384616}"
      ]
     },
     "execution_count": 45,
     "metadata": {},
     "output_type": "execute_result"
    }
   ],
   "source": [
    "#q25\n",
    "m={}\n",
    "avg_length={}\n",
    "\n",
    "for tweet in a:\n",
    "    length=tweet.length\n",
    "    if not type(length)==int: length = 0 \n",
    "\n",
    "    if tweet.username not in m:\n",
    "        count=1\n",
    "        m[tweet.username]=[length, count]\n",
    "    else:\n",
    "        count+=1\n",
    "        m[tweet.username][0]+=length\n",
    "        m[tweet.username][1]+=1\n",
    "        \n",
    "for each in m:\n",
    "    avg_length[each] = m[each][0]/m[each][1]\n",
    "avg_length"
   ]
  },
  {
   "cell_type": "code",
   "execution_count": 46,
   "metadata": {},
   "outputs": [
    {
     "data": {
      "image/png": "[encoded data removed]",
      "text/plain": [
       "<Figure size 432x288 with 1 Axes>"
      ]
     },
     "metadata": {
      "needs_background": "light"
     },
     "output_type": "display_data"
    }
   ],
   "source": [
    "#q26\n",
    "x=[]\n",
    "y=[]\n",
    "for tweet in num_tweet:\n",
    "    x.append(float(num_tweet[tweet]))\n",
    "for tweet in avg_length:\n",
    "    y.append(avg_length[tweet])\n",
    "\n",
    "\n",
    "scatter(x, y, xlabel=\"Number of Tweets\", ylabel=\"Average Length\")"
   ]
  },
  {
   "cell_type": "code",
   "execution_count": 47,
   "metadata": {},
   "outputs": [
    {
     "data": {
      "image/png": "[encoded data removed]",
      "text/plain": [
       "<Figure size 432x288 with 1 Axes>"
      ]
     },
     "metadata": {
      "needs_background": "light"
     },
     "output_type": "display_data"
    }
   ],
   "source": [
    "#q27\n",
    "x=[]\n",
    "y=[]\n",
    "for tweet in num_tweet:\n",
    "    x.append(float(num_tweet[tweet]))\n",
    "for tweet in num_likes:\n",
    "    y.append(num_likes[tweet])\n",
    "\n",
    "scatter(x, y, xlabel=\"Number of Tweets\", ylabel=\"Average Likes\")"
   ]
  },
  {
   "cell_type": "code",
   "execution_count": 48,
   "metadata": {},
   "outputs": [
    {
     "data": {
      "image/png": "[encoded data removed]",
      "text/plain": [
       "<Figure size 432x288 with 1 Axes>"
      ]
     },
     "metadata": {
      "needs_background": "light"
     },
     "output_type": "display_data"
    }
   ],
   "source": [
    "#q28\n",
    "x=[]\n",
    "y=[]\n",
    "\n",
    "for tweet in avg_length:\n",
    "    x.append(float(avg_length[tweet]))\n",
    "for tweet in num_likes:\n",
    "    y.append(num_likes[tweet])\n",
    "\n",
    "scatter(x, y, xlabel=\"Average Length\", ylabel=\"Average Likes\")"
   ]
  },
  {
   "cell_type": "code",
   "execution_count": 49,
   "metadata": {},
   "outputs": [
    {
     "data": {
      "text/plain": [
       "'USERID_2'"
      ]
     },
     "execution_count": 49,
     "metadata": {},
     "output_type": "execute_result"
    }
   ],
   "source": [
    "#q29\n",
    "def outlier():\n",
    "    likes = []\n",
    "    num = []\n",
    "    length = []\n",
    "    check1 = \"\"\n",
    "    check2 = \"\"\n",
    "\n",
    "    for tweet in avg_length:\n",
    "        length.append((tweet, float(avg_length[tweet])))\n",
    "    for tweet in num_likes:\n",
    "        likes.append((tweet, num_likes[tweet]))\n",
    "    for tweet in num_tweet:\n",
    "        num.append((tweet, num_tweet[tweet]))\n",
    "\n",
    "    sum1 = 0\n",
    "    sum2 = 0\n",
    "\n",
    "    for i in range(len(length)):\n",
    "        sum1+=(likes[i][1]/num[i][1])\n",
    "        sum2+=(likes[i][1]/length[i][1])\n",
    "\n",
    "    mean1 = sum1/len(length)\n",
    "    mean2 = sum2/len(length)\n",
    "\n",
    "    for i in range(len(length)):\n",
    "        if(likes[i][1]/length[i][1])>= mean1:\n",
    "            if likes[i][0] == length[i][0]:\n",
    "                check1 = length[i][0]\n",
    "\n",
    "        if(likes[i][1]/num[i][1])>= mean2:\n",
    "            if likes[i][0] == num[i][0]:\n",
    "                check2 = num[i][0]\n",
    "\n",
    "\n",
    "    if check1 == check2:\n",
    "        return check1\n",
    "outlier = outlier()\n",
    "outlier"
   ]
  },
  {
   "cell_type": "code",
   "execution_count": 50,
   "metadata": {},
   "outputs": [
    {
     "data": {
      "text/plain": [
       "[Tweet(tweet_id='1467894593', username='USERID_2', num_liked=869000000, length=136),\n",
       " Tweet(tweet_id='1467875163', username='USERID_2', num_liked=9891, length=69),\n",
       " Tweet(tweet_id='1467862806', username='USERID_2', num_liked=9465, length=68),\n",
       " Tweet(tweet_id='1467907751', username='USERID_2', num_liked=9048, length=110),\n",
       " Tweet(tweet_id='1467928764', username='USERID_2', num_liked=9026, length=41),\n",
       " Tweet(tweet_id='1467943007', username='USERID_2', num_liked=9000, length=130),\n",
       " Tweet(tweet_id='1467918682', username='USERID_2', num_liked=8884, length=102),\n",
       " Tweet(tweet_id='1467935121', username='USERID_2', num_liked=8740, length=37),\n",
       " Tweet(tweet_id='1467947913', username='USERID_2', num_liked=8578, length=36),\n",
       " Tweet(tweet_id='1467892667', username='USERID_2', num_liked=8270, length=20),\n",
       " Tweet(tweet_id='1467897316', username='USERID_2', num_liked=7890, length=64),\n",
       " Tweet(tweet_id='1467854917', username='USERID_2', num_liked=7741, length=30),\n",
       " Tweet(tweet_id='1467961106', username='USERID_2', num_liked=7552, length=65),\n",
       " Tweet(tweet_id='1467951252', username='USERID_2', num_liked=7515, length=48),\n",
       " Tweet(tweet_id='1467889988', username='USERID_2', num_liked=7394, length=51),\n",
       " Tweet(tweet_id='1467916959', username='USERID_2', num_liked=7081, length=69),\n",
       " Tweet(tweet_id='1467874916', username='USERID_2', num_liked=6935, length=23),\n",
       " Tweet(tweet_id='1467855981', username='USERID_2', num_liked=6455, length=92),\n",
       " Tweet(tweet_id='1467872247', username='USERID_2', num_liked=6316, length=137),\n",
       " Tweet(tweet_id='1467918850', username='USERID_2', num_liked=5383, length=103),\n",
       " Tweet(tweet_id='1467919055', username='USERID_2', num_liked=5370, length=68),\n",
       " Tweet(tweet_id='1467915670', username='USERID_2', num_liked=5287, length=138),\n",
       " Tweet(tweet_id='1467880442', username='USERID_2', num_liked=5125, length=96),\n",
       " Tweet(tweet_id='1467896253', username='USERID_2', num_liked=4906, length=91),\n",
       " Tweet(tweet_id='1467962897', username='USERID_2', num_liked=4898, length=98),\n",
       " Tweet(tweet_id='1467855812', username='USERID_2', num_liked=4806, length=28),\n",
       " Tweet(tweet_id='1467930220', username='USERID_2', num_liked=4770, length=94),\n",
       " Tweet(tweet_id='1467852031', username='USERID_2', num_liked=4565, length=63),\n",
       " Tweet(tweet_id='1467905378', username='USERID_2', num_liked=4420, length=111),\n",
       " Tweet(tweet_id='1467877833', username='USERID_2', num_liked=4270, length=89),\n",
       " Tweet(tweet_id='1467870866', username='USERID_2', num_liked=4166, length=82),\n",
       " Tweet(tweet_id='1467879984', username='USERID_2', num_liked=3694, length=69),\n",
       " Tweet(tweet_id='1467898511', username='USERID_2', num_liked=3477, length=99),\n",
       " Tweet(tweet_id='1467926632', username='USERID_2', num_liked=2602, length=98),\n",
       " Tweet(tweet_id='1467862213', username='USERID_2', num_liked=2455, length=138),\n",
       " Tweet(tweet_id='1467878633', username='USERID_2', num_liked=2351, length=33),\n",
       " Tweet(tweet_id='1467878971', username='USERID_2', num_liked=2238, length=27),\n",
       " Tweet(tweet_id='1467953090', username='USERID_2', num_liked=1896, length=64),\n",
       " Tweet(tweet_id='1467908798', username='USERID_2', num_liked=1659, length=51),\n",
       " Tweet(tweet_id='1467918015', username='USERID_2', num_liked=1508, length=97),\n",
       " Tweet(tweet_id='1467926444', username='USERID_2', num_liked=1394, length=61),\n",
       " Tweet(tweet_id='1467914499', username='USERID_2', num_liked=910, length=138),\n",
       " Tweet(tweet_id='1467968584', username='USERID_2', num_liked=777, length=132),\n",
       " Tweet(tweet_id='1467933102', username='USERID_2', num_liked=625, length=135),\n",
       " Tweet(tweet_id='1467953277', username='USERID_2', num_liked=494, length=31),\n",
       " Tweet(tweet_id='1467890222', username='USERID_2', num_liked=227, length=107),\n",
       " Tweet(tweet_id='1467871956', username='USERID_2', num_liked=110, length=68)]"
      ]
     },
     "execution_count": 50,
     "metadata": {},
     "output_type": "execute_result"
    }
   ],
   "source": [
    "#q30\n",
    "outlier_tweet = []\n",
    "for tweet in a:\n",
    "    if(tweet.username == outlier):\n",
    "        outlier_tweet.append(tweet)\n",
    "\n",
    "outlier_tweet = sorted(outlier_tweet, reverse = True, key = sort_factor_num_liked)\n",
    "outlier_tweet"
   ]
  },
  {
   "cell_type": "code",
   "execution_count": 51,
   "metadata": {},
   "outputs": [
    {
     "data": {
      "text/plain": [
       "99.97352093731529"
      ]
     },
     "execution_count": 51,
     "metadata": {},
     "output_type": "execute_result"
    }
   ],
   "source": [
    "#q31\n",
    "total_like = num_likes[outlier]*num_tweet[outlier]\n",
    "most_liked = outlier_tweet[0].num_liked\n",
    "most_liked/total_like*100"
   ]
  },
  {
   "cell_type": "code",
   "execution_count": 52,
   "metadata": {},
   "outputs": [
    {
     "data": {
      "text/plain": [
       "5003.565217391304"
      ]
     },
     "execution_count": 52,
     "metadata": {},
     "output_type": "execute_result"
    }
   ],
   "source": [
    "#q32\n",
    "exclude = outlier_tweet[1:]\n",
    "sum_like = 0\n",
    "for each in exclude:\n",
    "    sum_like += each.num_liked\n",
    "sum_like/len(exclude)"
   ]
  },
  {
   "cell_type": "code",
   "execution_count": 53,
   "metadata": {},
   "outputs": [
    {
     "data": {
      "text/plain": [
       "['play/rb/rb9/89.csv', 'play/rb/rb9/12.xls']"
      ]
     },
     "execution_count": 53,
     "metadata": {},
     "output_type": "execute_result"
    }
   ],
   "source": [
    "#q33\n",
    "import os\n",
    "path_list = []\n",
    "\n",
    "def explore(path):\n",
    "    if os.path.isfile(path) == True:\n",
    "        path_list.append(path)\n",
    "        #path_list.insert(0, path)\n",
    "    else:\n",
    "        l = os.listdir(path)\n",
    "        for each in l:\n",
    "            if(each.startswith(\".\")==False):\n",
    "                explore(os.path.join(path, each))  \n",
    "\n",
    "        path_list.sort(reverse = True)\n",
    "\n",
    "\n",
    "explore(os.path.join(\"play\", \"rb\", \"rb9\"))\n",
    "#sorted(path_list, key=str.lower, reverse = True)\n",
    "path_list"
   ]
  },
  {
   "cell_type": "code",
   "execution_count": 54,
   "metadata": {},
   "outputs": [
    {
     "data": {
      "text/plain": [
       "['play/ls/qwe/usun.pdf',\n",
       " 'play/ls/qwe/iuqwe.json',\n",
       " 'play/ls/mf.py',\n",
       " 'play/ls/lu.txt']"
      ]
     },
     "execution_count": 54,
     "metadata": {},
     "output_type": "execute_result"
    }
   ],
   "source": [
    "#q34\n",
    "path_list=[]\n",
    "explore(os.path.join(\"play\",\"ls\"))\n",
    "#sorted(path_list, key=str.lower, reverse = True)\n",
    "path_list"
   ]
  },
  {
   "cell_type": "code",
   "execution_count": 55,
   "metadata": {},
   "outputs": [
    {
     "data": {
      "text/plain": [
       "['play/ou/v',\n",
       " 'play/ou/quap/uikwe',\n",
       " 'play/ou/quap/qonxu.txt',\n",
       " 'play/ou/quap/aoq/qsonj',\n",
       " 'play/ou/quap/aoq/aqnsa',\n",
       " 'play/ou/b',\n",
       " 'play/ou/a']"
      ]
     },
     "execution_count": 55,
     "metadata": {},
     "output_type": "execute_result"
    }
   ],
   "source": [
    "#q35\n",
    "path_list=[]\n",
    "\n",
    "explore(os.path.join(\"play\",\"ou\"))\n",
    "#sorted(path_list, key=str.lower, reverse = True)\n",
    "path_list"
   ]
  },
  {
   "cell_type": "code",
   "execution_count": 56,
   "metadata": {},
   "outputs": [
    {
     "data": {
      "text/plain": [
       "['play/rb/rb9/89.csv',\n",
       " 'play/rb/rb9/12.xls',\n",
       " 'play/rb/ppt.ppt',\n",
       " 'play/ou/v',\n",
       " 'play/ou/quap/uikwe',\n",
       " 'play/ou/quap/qonxu.txt',\n",
       " 'play/ou/quap/aoq/qsonj',\n",
       " 'play/ou/quap/aoq/aqnsa',\n",
       " 'play/ou/b',\n",
       " 'play/ou/a',\n",
       " 'play/ls/qwe/usun.pdf',\n",
       " 'play/ls/qwe/iuqwe.json',\n",
       " 'play/ls/mf.py',\n",
       " 'play/ls/lu.txt']"
      ]
     },
     "execution_count": 56,
     "metadata": {},
     "output_type": "execute_result"
    }
   ],
   "source": [
    "#q36\n",
    "path_list=[]\n",
    "explore(os.path.join(\"play\"))\n",
    "#sorted(path_list, key=str.lower, reverse = True)\n",
    "path_list"
   ]
  },
  {
   "cell_type": "code",
   "execution_count": 57,
   "metadata": {},
   "outputs": [
    {
     "data": {
      "text/plain": [
       "['recursive/others/USERID_9.json',\n",
       " 'recursive/others/USERID_8.json',\n",
       " 'recursive/others/USERID_7.json',\n",
       " 'recursive/others/USERID_6.json',\n",
       " 'recursive/others/USERID_5.json',\n",
       " 'recursive/others/USERID_10.json']"
      ]
     },
     "execution_count": 57,
     "metadata": {},
     "output_type": "execute_result"
    }
   ],
   "source": [
    "#q37\n",
    "path_list=[]\n",
    "explore(os.path.join(\"recursive\", \"others\"))\n",
    "#sorted(path_list, key=str.lower, reverse = True)\n",
    "path_list"
   ]
  },
  {
   "cell_type": "code",
   "execution_count": 58,
   "metadata": {},
   "outputs": [
    {
     "data": {
      "text/plain": [
       "['recursive/others/USERID_9.json',\n",
       " 'recursive/others/USERID_8.json',\n",
       " 'recursive/others/USERID_7.json',\n",
       " 'recursive/others/USERID_6.json',\n",
       " 'recursive/others/USERID_5.json',\n",
       " 'recursive/others/USERID_10.json',\n",
       " 'recursive/USERID_4/true/tweets.json',\n",
       " 'recursive/USERID_4/false/tweets.json',\n",
       " 'recursive/USERID_3/tweets.json',\n",
       " 'recursive/USERID_2/tweets.json',\n",
       " 'recursive/USERID_1/tweets.json']"
      ]
     },
     "execution_count": 58,
     "metadata": {},
     "output_type": "execute_result"
    }
   ],
   "source": [
    "#q38\n",
    "path_list=[]\n",
    "explore(os.path.join(\"recursive\"))\n",
    "path_list"
   ]
  },
  {
   "cell_type": "code",
   "execution_count": 59,
   "metadata": {},
   "outputs": [
    {
     "data": {
      "text/plain": [
       "17"
      ]
     },
     "execution_count": 59,
     "metadata": {},
     "output_type": "execute_result"
    }
   ],
   "source": [
    "#q39\n",
    "\n",
    "path_list=[]\n",
    "tweet_file = []\n",
    "explore(os.path.join(\"recursive\", \"USERID_4\"))\n",
    "count = 0\n",
    "for each in sorted(path_list, key=str.lower, reverse = True):\n",
    "    if each.endswith(\".json\")==True:\n",
    "        tweet_file.append(each)\n",
    "\n",
    "for path in tweet_file:\n",
    "    split = path.rfind(\"/\")\n",
    "    path1 = path[0:split]\n",
    "    file = path[split+1:]\n",
    "    count+=len(tweet_info(file,path1))\n",
    "count"
   ]
  },
  {
   "cell_type": "code",
   "execution_count": 60,
   "metadata": {},
   "outputs": [
    {
     "data": {
      "text/plain": [
       "200"
      ]
     },
     "execution_count": 60,
     "metadata": {},
     "output_type": "execute_result"
    }
   ],
   "source": [
    "#q40\n",
    "path_list=[]\n",
    "tweet_file = []\n",
    "explore(os.path.join(\"recursive\"))\n",
    "count = 0\n",
    "\n",
    "for each in path_list:\n",
    "    if each.endswith(\".json\")==True:\n",
    "        tweet_file.append(each)\n",
    "\n",
    "for path in tweet_file:\n",
    "    split = path.rfind(\"/\")\n",
    "    path1 = path[0:split]\n",
    "    file = path[split+1:]\n",
    "    count+=len(tweet_info(file,path1))\n",
    "count"
   ]
  },
  {
   "cell_type": "code",
   "execution_count": null,
   "metadata": {},
   "outputs": [],
   "source": []
  }
 ],
 "metadata": {
  "kernelspec": {
   "display_name": "Python 3",
   "language": "python",
   "name": "python3"
  },
  "language_info": {
   "codemirror_mode": {
    "name": "ipython",
    "version": 3
   },
   "file_extension": ".py",
   "mimetype": "text/x-python",
   "name": "python",
   "nbconvert_exporter": "python",
   "pygments_lexer": "ipython3",
   "version": "3.7.2"
  }
 },
 "nbformat": 4,
 "nbformat_minor": 2
}
