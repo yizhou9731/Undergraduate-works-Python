{
 "cells": [
  {
   "cell_type": "code",
   "execution_count": 1,
   "metadata": {},
   "outputs": [],
   "source": [
    "import csv\n",
    "\n",
    "# copied from https://automatetheboringstuff.com/chapter14/\n",
    "def process_csv(filename):\n",
    "    exampleFile = open(filename, encoding=\"utf-8\")\n",
    "    exampleReader = csv.reader(exampleFile)\n",
    "    exampleData = list(exampleReader)\n",
    "    return exampleData\n",
    "\n",
    "# use process_csv to pull out the header and data rows\n",
    "csv_rows = process_csv(\"wine.csv\")\n",
    "csv_header = csv_rows[0]\n",
    "csv_data = csv_rows[1:]"
   ]
  },
  {
   "cell_type": "code",
   "execution_count": 2,
   "metadata": {},
   "outputs": [],
   "source": [
    "#1_alt_method\n",
    "k=[]\n",
    "for row in csv_data[0:]: \n",
    "    if row[0] not in k and row[0]!=\"\":\n",
    "        k.append(row[0])\n",
    "\n"
   ]
  },
  {
   "cell_type": "code",
   "execution_count": null,
   "metadata": {},
   "outputs": [],
   "source": []
  },
  {
   "cell_type": "code",
   "execution_count": 3,
   "metadata": {},
   "outputs": [],
   "source": [
    "def cell(row_idx, col_name):\n",
    "    col_idx = csv_header.index(col_name)\n",
    "    val = csv_data[row_idx][col_idx]\n",
    "    #if val == \"\":\n",
    "        #return None\n",
    "   \n",
    "    return val"
   ]
  },
  {
   "cell_type": "code",
   "execution_count": 4,
   "metadata": {},
   "outputs": [
    {
     "data": {
      "text/plain": [
       "['US',\n",
       " 'Spain',\n",
       " 'France',\n",
       " 'Italy',\n",
       " 'New Zealand',\n",
       " 'Bulgaria',\n",
       " 'Argentina',\n",
       " 'Australia',\n",
       " 'Portugal',\n",
       " 'Israel',\n",
       " 'South Africa',\n",
       " 'Greece',\n",
       " 'Chile',\n",
       " 'Morocco',\n",
       " 'Romania',\n",
       " 'Germany',\n",
       " 'Canada',\n",
       " 'Moldova',\n",
       " 'Hungary',\n",
       " 'Austria',\n",
       " 'Croatia',\n",
       " 'Slovenia',\n",
       " 'India']"
      ]
     },
     "execution_count": 4,
     "metadata": {},
     "output_type": "execute_result"
    }
   ],
   "source": [
    "#q1\n",
    "k=[]\n",
    "for i in range(len(csv_data[0:])):\n",
    "    if cell(i,\"country\")!=\"\" and cell(i,\"country\") not in k :\n",
    "        k.append(cell(i,\"country\"))\n",
    "        \n",
    "k"
   ]
  },
  {
   "cell_type": "code",
   "execution_count": 5,
   "metadata": {},
   "outputs": [
    {
     "data": {
      "text/plain": [
       "39.40787623066104"
      ]
     },
     "execution_count": 5,
     "metadata": {},
     "output_type": "execute_result"
    }
   ],
   "source": [
    "#q2\n",
    "sum=0\n",
    "n=0\n",
    "\n",
    "for i in range(len(csv_data[0:])): \n",
    "    if cell(i,\"price\")!=\"\":\n",
    "        \n",
    "        sum+=float(cell(i,\"price\"))\n",
    "        n=n+1\n",
    "avg=sum/n\n",
    "avg"
   ]
  },
  {
   "cell_type": "code",
   "execution_count": 6,
   "metadata": {},
   "outputs": [
    {
     "data": {
      "text/plain": [
       "['Tinta de Toro',\n",
       " 'Tempranillo',\n",
       " 'Tempranillo Blend',\n",
       " 'Mencía',\n",
       " 'Palomino',\n",
       " 'Monastrell',\n",
       " 'Albariño',\n",
       " 'Sparkling Blend',\n",
       " 'Godello',\n",
       " 'Red Blend',\n",
       " 'White Blend',\n",
       " 'Sherry',\n",
       " 'Garnacha',\n",
       " 'Moscatel',\n",
       " 'Garnacha Blanca',\n",
       " 'Grenache-Syrah']"
      ]
     },
     "execution_count": 6,
     "metadata": {},
     "output_type": "execute_result"
    }
   ],
   "source": [
    "#q3\n",
    "k=[]\n",
    "for i in range(len(csv_data[0:])):\n",
    "    if cell(i,\"country\")==\"Spain\" and cell(i,\"variety\") not in k:\n",
    "        k.append(cell(i,\"variety\"))\n",
    "k\n",
    "        "
   ]
  },
  {
   "cell_type": "code",
   "execution_count": 7,
   "metadata": {},
   "outputs": [
    {
     "data": {
      "text/plain": [
       "['Château Pégau',\n",
       " 'Hawk Watch Winery',\n",
       " 'Laird',\n",
       " 'MCV',\n",
       " 'Tetra',\n",
       " 'Beronia',\n",
       " 'Adelaida Cellars',\n",
       " 'Palmeri',\n",
       " 'Sevtap',\n",
       " 'Montes',\n",
       " 'Fess Parker',\n",
       " 'Andrew Murray',\n",
       " 'Clos La Chance']"
      ]
     },
     "execution_count": 7,
     "metadata": {},
     "output_type": "execute_result"
    }
   ],
   "source": [
    "#q4\n",
    "k=[]\n",
    "#pull out description\n",
    "for i in range(len(csv_data[0:])): \n",
    "    description_string=cell(i,\"description\").lower()\n",
    "    #check beef\n",
    "    description_string.find(\"beef\")\n",
    "    \n",
    "    if description_string.find(\"beef\")!=-1:\n",
    "        k.append(cell(i,\"winery\"))\n",
    "k\n",
    "        "
   ]
  },
  {
   "cell_type": "code",
   "execution_count": 8,
   "metadata": {},
   "outputs": [
    {
     "data": {
      "text/plain": [
       "['Santa Cruz Mountain Vineyard',\n",
       " 'Stephen Ross',\n",
       " 'Heron Hill',\n",
       " 'Fattoria di Magliano',\n",
       " 'Quinta Nova de Nossa Senhora do Carmo',\n",
       " 'Byron',\n",
       " 'Bürgermeister Willi Schweinhardt',\n",
       " 'MCV',\n",
       " 'Dr. H. Thanisch (Erben Thanisch)',\n",
       " 'Benoît Girard',\n",
       " 'Domaine Ostertag',\n",
       " 'Concha y Toro',\n",
       " 'Sheldrake Point',\n",
       " 'Domaine Collotte',\n",
       " 'Domaine Allimant-Laugner',\n",
       " 'Margerum',\n",
       " 'Brander']"
      ]
     },
     "execution_count": 8,
     "metadata": {},
     "output_type": "execute_result"
    }
   ],
   "source": [
    "#q5\n",
    "k=[]\n",
    "#pull out description\n",
    "for i in range(len(csv_data[0:])): \n",
    "    description_string=cell(i,\"description\").lower()\n",
    "    description_list=description_string.split(\" \")\n",
    "    #check zesty\n",
    "    if \"zesty\" in description_list and cell(i,\"winery\") not in k: \n",
    "        k.append(cell(i,\"winery\"))\n",
    "k"
   ]
  },
  {
   "cell_type": "code",
   "execution_count": 9,
   "metadata": {},
   "outputs": [
    {
     "data": {
      "text/plain": [
       "['Maurodos',\n",
       " 'Bodega Carmen Rodríguez',\n",
       " 'Val de Los Frailes',\n",
       " 'Matarromera',\n",
       " 'Palacio del Burgo']"
      ]
     },
     "execution_count": 9,
     "metadata": {},
     "output_type": "execute_result"
    }
   ],
   "source": [
    "#q6\n",
    "k=[]\n",
    "#pull out description\n",
    "for i in range(len(csv_data[0:])): \n",
    "    description_string=cell(i,\"description\").lower()\n",
    "    \n",
    "    #find\n",
    "    description_string.find(\"black-fruit aroma\")\n",
    "    \n",
    "    #check\n",
    "    if description_string.find(\"black-fruit aroma\")!= -1:\n",
    "        k.append(cell(i,\"winery\"))\n",
    "\n",
    "k\n"
   ]
  },
  {
   "cell_type": "code",
   "execution_count": 10,
   "metadata": {},
   "outputs": [
    {
     "data": {
      "text/plain": [
       "['Cabernet Sauvignon']"
      ]
     },
     "execution_count": 10,
     "metadata": {},
     "output_type": "execute_result"
    }
   ],
   "source": [
    "#q7\n",
    "k=[]\n",
    "goal=\"antibusgovernance\"\n",
    "goal_order=''.join(sorted(goal))\n",
    "\n",
    "\n",
    "#varities treatment\n",
    "for i in range(len(csv_data[0:])): \n",
    "    variety_string=''.join(sorted((cell(i,\"variety\")).strip(\" \").lower()))\n",
    "    \n",
    "\n",
    "    if variety_string.find(goal_order)!=-1 and cell(i,\"variety\") not in k:\n",
    "        k.append(cell(i,\"variety\"))\n",
    "k"
   ]
  },
  {
   "cell_type": "code",
   "execution_count": 11,
   "metadata": {},
   "outputs": [
    {
     "data": {
      "text/plain": [
       "['Tempranillo Blend']"
      ]
     },
     "execution_count": 11,
     "metadata": {},
     "output_type": "execute_result"
    }
   ],
   "source": [
    "#q8\n",
    "k=[]\n",
    "goal=\"bannedpetrolmill\"\n",
    "goal_order=''.join(sorted(goal))\n",
    "\n",
    "\n",
    "#varities treatment\n",
    "for i in range(len(csv_data[0:])): \n",
    "    variety_string=''.join(sorted((cell(i,\"variety\")).strip(\" \").lower()))\n",
    "    \n",
    "\n",
    "    if variety_string.find(goal_order)!=-1 and cell(i,\"variety\") not in k:\n",
    "        k.append(cell(i,\"variety\"))\n",
    "k\n"
   ]
  },
  {
   "cell_type": "code",
   "execution_count": 12,
   "metadata": {
    "scrolled": false
   },
   "outputs": [
    {
     "data": {
      "text/plain": [
       "['Cabernet Sauvignon', 'Sauvignon Blanc', 'Pinot Noir']"
      ]
     },
     "execution_count": 12,
     "metadata": {},
     "output_type": "execute_result"
    }
   ],
   "source": [
    "#q9\n",
    "k=[]\n",
    "m=[]\n",
    "for i in range(len(csv_data[0:])):\n",
    "    if cell(i,\"country\")==\"US\":\n",
    "        li_str=cell(i,\"points\")\n",
    "        li_int=int(li_str)\n",
    "        \n",
    "        k.append(li_int)\n",
    "        #find max\n",
    "max_val=max(k)\n",
    "\n",
    "for i in range(len(csv_data[0:])):\n",
    "    if cell(i,\"country\")==\"US\" and int(cell(i,\"points\"))==max(k):\n",
    "        m.append(cell(i,\"variety\"))\n",
    "m\n",
    "        \n"
   ]
  },
  {
   "cell_type": "code",
   "execution_count": 13,
   "metadata": {},
   "outputs": [
    {
     "data": {
      "text/plain": [
       "['Tinta de Toro']"
      ]
     },
     "execution_count": 13,
     "metadata": {},
     "output_type": "execute_result"
    }
   ],
   "source": [
    "#q10\n",
    "k=[]\n",
    "m=[]\n",
    "for i in range(len(csv_data[0:])):\n",
    "    if cell(i,\"country\")==\"Spain\":\n",
    "        li_str=cell(i,\"points\")\n",
    "        li_int=int(li_str)\n",
    "        \n",
    "        k.append(li_int)\n",
    "        #find max\n",
    "max_val=max(k)\n",
    "\n",
    "for i in range(len(csv_data[0:])):\n",
    "    if cell(i,\"country\")==\"Spain\" and int(cell(i,\"points\"))==max(k):\n",
    "        m.append(cell(i,\"variety\"))\n",
    "m"
   ]
  },
  {
   "cell_type": "code",
   "execution_count": 14,
   "metadata": {},
   "outputs": [
    {
     "data": {
      "text/plain": [
       "2.183421985815603"
      ]
     },
     "execution_count": 14,
     "metadata": {},
     "output_type": "execute_result"
    }
   ],
   "source": [
    "#q11\n",
    "\n",
    "count=0\n",
    "r=0\n",
    "\n",
    "for i in range(len(csv_data[0:])):\n",
    "    if cell(i,\"winery\")==\"Heitz\":\n",
    "        count+=1\n",
    "        pts=(float((cell(i,\"points\"))))\n",
    "        dol=(float((cell(i,\"price\"))))\n",
    "        r+=pts/dol\n",
    "      \n",
    "\n",
    "r_final=r/count\n",
    "\n",
    "r_final\n"
   ]
  },
  {
   "cell_type": "code",
   "execution_count": 15,
   "metadata": {},
   "outputs": [
    {
     "data": {
      "text/plain": [
       "1.288074888074888"
      ]
     },
     "execution_count": 15,
     "metadata": {},
     "output_type": "execute_result"
    }
   ],
   "source": [
    "#q12\n",
    "\n",
    "count=0\n",
    "r=0\n",
    "\n",
    "for i in range(len(csv_data[0:])):\n",
    "    if cell(i,\"winery\").lower()==\"ponzi\":\n",
    "        count+=1\n",
    "        pts=(float((cell(i,\"points\"))))\n",
    "        dol=(float((cell(i,\"price\"))))\n",
    "        r+=pts/dol\n",
    "      \n",
    "\n",
    "r_final=r/count\n",
    "\n",
    "r_final\n"
   ]
  },
  {
   "cell_type": "code",
   "execution_count": 16,
   "metadata": {},
   "outputs": [
    {
     "data": {
      "text/plain": [
       "'Spy Valley'"
      ]
     },
     "execution_count": 16,
     "metadata": {},
     "output_type": "execute_result"
    }
   ],
   "source": [
    "#q13\n",
    "max_r=0\n",
    "r=0\n",
    "max_winery=\"None\"\n",
    "for i in range(len(csv_data[0:])):\n",
    "    if cell(i,\"country\")==\"New Zealand\":\n",
    "        \n",
    "        pts=(float((cell(i,\"points\"))))\n",
    "        dol=(float((cell(i,\"price\"))))\n",
    "        r=pts/dol\n",
    "        if r>max_r: \n",
    "            max_r=r\n",
    "            max_winery=cell(i,\"winery\")\n",
    "max_winery\n",
    "    \n",
    "       \n",
    "       \n",
    "        "
   ]
  },
  {
   "cell_type": "code",
   "execution_count": 17,
   "metadata": {},
   "outputs": [
    {
     "data": {
      "text/plain": [
       "'Riposte'"
      ]
     },
     "execution_count": 17,
     "metadata": {},
     "output_type": "execute_result"
    }
   ],
   "source": [
    "#q14\n",
    "max_r=0\n",
    "r=0\n",
    "max_winery=\"None\"\n",
    "for i in range(len(csv_data[0:])):\n",
    "    if cell(i,\"country\")==\"Australia\":\n",
    "        \n",
    "        pts=(float((cell(i,\"points\"))))\n",
    "        dol=(float((cell(i,\"price\"))))\n",
    "        r=pts/dol\n",
    "        if r>max_r: \n",
    "            max_r=r\n",
    "            max_winery=cell(i,\"winery\")\n",
    "max_winery"
   ]
  },
  {
   "cell_type": "code",
   "execution_count": 18,
   "metadata": {},
   "outputs": [
    {
     "data": {
      "text/plain": [
       "'Cave Spring'"
      ]
     },
     "execution_count": 18,
     "metadata": {},
     "output_type": "execute_result"
    }
   ],
   "source": [
    "#q15\n",
    "max_r=0\n",
    "r=0\n",
    "max_winery=\"None\"\n",
    "for i in range(len(csv_data[0:])):\n",
    "    if cell(i,\"country\")==\"Canada\":\n",
    "        \n",
    "        pts=(float((cell(i,\"points\"))))\n",
    "        dol=(float((cell(i,\"price\"))))\n",
    "        r=pts/dol\n",
    "        if r>max_r: \n",
    "            max_r=r\n",
    "            max_winery=cell(i,\"winery\")\n",
    "max_winery"
   ]
  },
  {
   "cell_type": "code",
   "execution_count": 19,
   "metadata": {},
   "outputs": [
    {
     "data": {
      "text/plain": [
       "['Portuguese White', 'Portuguese Rosé', 'Portuguese Red']"
      ]
     },
     "execution_count": 19,
     "metadata": {},
     "output_type": "execute_result"
    }
   ],
   "source": [
    "#q16\n",
    "k=[]\n",
    "for i in range(len(csv_data[0:])):\n",
    "    if cell(i,\"winery\")==\"Quinta Nova de Nossa Senhora do Carmo\": \n",
    "        k.append(cell(i,\"variety\"))\n",
    "        \n",
    "k"
   ]
  },
  {
   "cell_type": "code",
   "execution_count": 20,
   "metadata": {},
   "outputs": [
    {
     "data": {
      "text/plain": [
       "['Touriga Nacional', 'Portuguese Sparkling', 'Portuguese Red']"
      ]
     },
     "execution_count": 20,
     "metadata": {},
     "output_type": "execute_result"
    }
   ],
   "source": [
    "#q18\n",
    "k=[]\n",
    "for i in range(len(csv_data[0:])):\n",
    "    if cell(i,\"winery\")==\"Global Wines\" and cell(i,\"variety\") not in k: \n",
    "        k.append(cell(i,\"variety\"))\n",
    "        \n",
    "k"
   ]
  },
  {
   "cell_type": "code",
   "execution_count": 21,
   "metadata": {},
   "outputs": [
    {
     "data": {
      "text/plain": [
       "['Portuguese Red', 'Portuguese White']"
      ]
     },
     "execution_count": 21,
     "metadata": {},
     "output_type": "execute_result"
    }
   ],
   "source": [
    "#q17\n",
    "k=[]\n",
    "for i in range(len(csv_data[0:])):\n",
    "    if cell(i,\"winery\")==\"Adega Cooperativa de Borba\" and cell(i,\"variety\") not in k: \n",
    "        k.append(cell(i,\"variety\"))\n",
    "        \n",
    "k"
   ]
  },
  {
   "cell_type": "code",
   "execution_count": 22,
   "metadata": {},
   "outputs": [
    {
     "data": {
      "text/plain": [
       "66.66666666666666"
      ]
     },
     "execution_count": 22,
     "metadata": {},
     "output_type": "execute_result"
    }
   ],
   "source": [
    "#q19\n",
    "\n",
    "#get Quinta\n",
    "k=[]\n",
    "count_k=0\n",
    "for i in range(len(csv_data[0:])):\n",
    "    if cell(i,\"winery\")==\"Quinta Nova de Nossa Senhora do Carmo\": \n",
    "        count_k+=1\n",
    "        k.append(cell(i,\"variety\"))\n",
    "        \n",
    "#get Adega\n",
    "m=[]\n",
    "count_m=0\n",
    "for i in range(len(csv_data[0:])):\n",
    "    if cell(i,\"winery\")==\"Adega Cooperativa de Borba\"and cell(i,\"variety\") not in m: \n",
    "        count_m+=1\n",
    "        m.append(cell(i,\"variety\"))\n",
    "\n",
    "        \n",
    " #get common: in Quinta and in Adega       \n",
    "count_final=0\n",
    "for v in k: \n",
    "    if v in m: \n",
    "        count_final+=1\n",
    "        \n",
    "\n",
    "        \n",
    "       \n",
    "\n",
    "(count_final/count_k)*100"
   ]
  },
  {
   "cell_type": "code",
   "execution_count": 23,
   "metadata": {},
   "outputs": [
    {
     "data": {
      "text/plain": [
       "33.33333333333333"
      ]
     },
     "execution_count": 23,
     "metadata": {},
     "output_type": "execute_result"
    }
   ],
   "source": [
    "#q20\n",
    "#get Quinta\n",
    "k=[]\n",
    "count_k=0\n",
    "for i in range(len(csv_data[0:])):\n",
    "    if cell(i,\"winery\")==\"Quinta Nova de Nossa Senhora do Carmo\": \n",
    "        count_k+=1\n",
    "        k.append(cell(i,\"variety\"))\n",
    "        \n",
    "#get Global\n",
    "m=[]\n",
    "count_m=0\n",
    "for i in range(len(csv_data[0:])):\n",
    "    if cell(i,\"winery\")==\"Global Wines\"and cell(i,\"variety\") not in m: \n",
    "        count_m+=1\n",
    "        m.append(cell(i,\"variety\"))\n",
    "\n",
    "        \n",
    " #get common: in Quinta and in Adega       \n",
    "count_final=0\n",
    "for v in k: \n",
    "    if v in m: \n",
    "        count_final+=1\n",
    "        \n",
    "\n",
    "        \n",
    "       \n",
    "\n",
    "(count_final/count_k)*100"
   ]
  },
  {
   "cell_type": "code",
   "execution_count": 24,
   "metadata": {},
   "outputs": [],
   "source": [
    "\n",
    "# project: p6\n",
    "# submitter-netid: yzhou344\n",
    "# partner-netid: none"
   ]
  }
 ],
 "metadata": {
  "kernelspec": {
   "display_name": "Python 3",
   "language": "python",
   "name": "python3"
  },
  "language_info": {
   "codemirror_mode": {
    "name": "ipython",
    "version": 3
   },
   "file_extension": ".py",
   "mimetype": "text/x-python",
   "name": "python",
   "nbconvert_exporter": "python",
   "pygments_lexer": "ipython3",
   "version": "3.7.2"
  }
 },
 "nbformat": 4,
 "nbformat_minor": 2
}
