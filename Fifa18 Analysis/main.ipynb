{
 "cells": [
  {
   "cell_type": "code",
   "execution_count": 1,
   "metadata": {},
   "outputs": [],
   "source": [
    "import csv\n",
    "fifa_file = open('Fifa18.csv', encoding='utf-8')\n",
    "file_reader = csv.reader(fifa_file)\n",
    "player_data = list(file_reader)\n",
    "header = player_data[0]\n",
    "player_data = player_data[1:]\n",
    "for row in player_data:\n",
    "    for idx in [2,6,7,8]:\n",
    "        row[idx] = float(row[idx])"
   ]
  },
  {
   "cell_type": "code",
   "execution_count": 2,
   "metadata": {},
   "outputs": [
    {
     "name": "stdout",
     "output_type": "stream",
     "text": [
      "['Id', 'name', 'Age', 'nationality', 'club', 'league', 'euro_wage', 'networth', 'score_of_100']\n",
      "['20801', 'Cristiano Ronaldo', 32.0, 'Portugal', 'Real Madrid CF', 'Spanish Primera División', 565000.0, 95500000.0, 94.0]\n",
      "['158023', 'L. Messi', 30.0, 'Argentina', 'FC Barcelona', 'Spanish Primera División', 565000.0, 105000000.0, 93.0]\n",
      "['190871', 'Neymar', 25.0, 'Brazil', 'Paris Saint-Germain', 'French Ligue 1', 280000.0, 123000000.0, 92.0]\n",
      "['176580', 'L. Suárez', 30.0, 'Uruguay', 'FC Barcelona', 'Spanish Primera División', 510000.0, 97000000.0, 92.0]\n",
      "['167495', 'M. Neuer', 31.0, 'Germany', 'FC Bayern Munich', 'German Bundesliga', 230000.0, 61000000.0, 92.0]\n"
     ]
    }
   ],
   "source": [
    "print(header)\n",
    "for row in player_data[:5]:\n",
    "    print(row)"
   ]
  },
  {
   "cell_type": "code",
   "execution_count": 3,
   "metadata": {},
   "outputs": [
    {
     "data": {
      "text/plain": [
       "'B. Richardson'"
      ]
     },
     "execution_count": 3,
     "metadata": {},
     "output_type": "execute_result"
    }
   ],
   "source": [
    "#q1\n",
    "max_age=0\n",
    "max_name=\"123\"\n",
    "\n",
    "for rows in player_data: \n",
    "    if rows[2]>max_age: \n",
    "        max_age=rows[2]\n",
    "        max_name=rows[1]\n",
    "max_name"
   ]
  },
  {
   "cell_type": "code",
   "execution_count": 4,
   "metadata": {},
   "outputs": [
    {
     "data": {
      "text/plain": [
       "'Cristiano Ronaldo'"
      ]
     },
     "execution_count": 4,
     "metadata": {},
     "output_type": "execute_result"
    }
   ],
   "source": [
    "#q2\n",
    "max_wage=0\n",
    "max_name=\"123\"\n",
    "k=[]\n",
    "\n",
    "for rows in player_data: \n",
    "    if rows[-3]>=max_wage: \n",
    "        max_wage=rows[-3]\n",
    "        max_name=rows[1]\n",
    "        k.append(max_name)\n",
    "k[0]\n",
    "       \n"
   ]
  },
  {
   "cell_type": "code",
   "execution_count": 5,
   "metadata": {},
   "outputs": [
    {
     "data": {
      "text/plain": [
       "'Neymar'"
      ]
     },
     "execution_count": 5,
     "metadata": {},
     "output_type": "execute_result"
    }
   ],
   "source": [
    "#q3\n",
    "max_worth=0\n",
    "max_name=\"123\"\n",
    "\n",
    "\n",
    "for rows in player_data: \n",
    "    if rows[-2]>max_worth: \n",
    "        max_worth=rows[-2]\n",
    "        max_name=rows[1]\n",
    "        \n",
    "max_name"
   ]
  },
  {
   "cell_type": "code",
   "execution_count": 6,
   "metadata": {},
   "outputs": [
    {
     "data": {
      "text/plain": [
       "'Paris Saint-Germain'"
      ]
     },
     "execution_count": 6,
     "metadata": {},
     "output_type": "execute_result"
    }
   ],
   "source": [
    "#q4\n",
    "#q3\n",
    "max_worth=0\n",
    "max_name=\"123\"\n",
    "max_club=\"234\"\n",
    "\n",
    "for rows in player_data: \n",
    "    if rows[-2]>max_worth: \n",
    "        max_worth=rows[-2]\n",
    "        max_name=rows[1]\n",
    "        max_club=rows[4]\n",
    "        \n",
    "max_club"
   ]
  },
  {
   "cell_type": "code",
   "execution_count": 7,
   "metadata": {},
   "outputs": [],
   "source": [
    "#complete the function \n",
    "# extracts an entire column from player_data to a list\n",
    "def get_column(col_idx):\n",
    "    columns=[]\n",
    "    for rows in player_data: \n",
    "        columns.append(rows[col_idx])\n",
    "    return columns"
   ]
  },
  {
   "cell_type": "code",
   "execution_count": 8,
   "metadata": {},
   "outputs": [
    {
     "data": {
      "text/plain": [
       "['Portugal', 'Argentina', 'Brazil', 'Uruguay', 'Germany']"
      ]
     },
     "execution_count": 8,
     "metadata": {},
     "output_type": "execute_result"
    }
   ],
   "source": [
    "#q5\n",
    "get_column(3)[0:5]"
   ]
  },
  {
   "cell_type": "code",
   "execution_count": 9,
   "metadata": {},
   "outputs": [
    {
     "data": {
      "text/plain": [
       "['A. Abbas', 'A. Abbas', 'A. Abdallah', 'A. Abdennour', 'A. Abdi']"
      ]
     },
     "execution_count": 9,
     "metadata": {},
     "output_type": "execute_result"
    }
   ],
   "source": [
    "#q6\n",
    "k=get_column(1)\n",
    "k.sort()\n",
    "k[0:5]"
   ]
  },
  {
   "cell_type": "code",
   "execution_count": 10,
   "metadata": {},
   "outputs": [
    {
     "data": {
      "text/plain": [
       "2407282.6149178543"
      ]
     },
     "execution_count": 10,
     "metadata": {},
     "output_type": "execute_result"
    }
   ],
   "source": [
    "#q7\n",
    "#sum networth \n",
    "k=get_column(-2)\n",
    "counts=0\n",
    "for rows in player_data: \n",
    "    counts+=1\n",
    "    \n",
    "avg=sum(k)/counts\n",
    "\n",
    "avg"
   ]
  },
  {
   "cell_type": "code",
   "execution_count": 11,
   "metadata": {},
   "outputs": [
    {
     "data": {
      "text/plain": [
       "25.133264640219817"
      ]
     },
     "execution_count": 11,
     "metadata": {},
     "output_type": "execute_result"
    }
   ],
   "source": [
    "#q8\n",
    "counts=0\n",
    "for rows in player_data: \n",
    "    counts+=1 \n",
    "k=get_column(2)\n",
    "\n",
    "avg=sum(k)/counts\n",
    "avg"
   ]
  },
  {
   "cell_type": "code",
   "execution_count": 12,
   "metadata": {},
   "outputs": [],
   "source": [
    "def player_count(country): \n",
    "    counts=0\n",
    "    for rows in player_data: \n",
    "        if rows[3]==country: \n",
    "            counts+=1\n",
    "    return counts\n",
    "            "
   ]
  },
  {
   "cell_type": "code",
   "execution_count": 13,
   "metadata": {},
   "outputs": [
    {
     "data": {
      "text/plain": [
       "355"
      ]
     },
     "execution_count": 13,
     "metadata": {},
     "output_type": "execute_result"
    }
   ],
   "source": [
    "#q9\n",
    "player_count(\"Portugal\")"
   ]
  },
  {
   "cell_type": "code",
   "execution_count": 14,
   "metadata": {},
   "outputs": [
    {
     "data": {
      "text/plain": [
       "800"
      ]
     },
     "execution_count": 14,
     "metadata": {},
     "output_type": "execute_result"
    }
   ],
   "source": [
    "#q10\n",
    "player_count(\"Brazil\")"
   ]
  },
  {
   "cell_type": "code",
   "execution_count": 15,
   "metadata": {},
   "outputs": [
    {
     "data": {
      "text/plain": [
       "'England'"
      ]
     },
     "execution_count": 15,
     "metadata": {},
     "output_type": "execute_result"
    }
   ],
   "source": [
    "#q11\n",
    "k={}\n",
    "\n",
    "for rows in player_data:    \n",
    "    if rows[3] in k: \n",
    "        k[rows[3]]+=1\n",
    "    else: \n",
    "        k[rows[3]]=1\n",
    "        \n",
    "max_p=0\n",
    "max_vals=\"123\"\n",
    "for vals in k: \n",
    "    if k[vals]>max_p: \n",
    "        max_p=k[vals]\n",
    "        max_vals=vals\n",
    "max_vals"
   ]
  },
  {
   "cell_type": "code",
   "execution_count": 16,
   "metadata": {},
   "outputs": [],
   "source": [
    "#q12\n",
    "\n",
    "def player_to_dict(player_id):\n",
    "    \n",
    "    for rows in player_data: \n",
    "       \n",
    "        if int(rows[0])==player_id: \n",
    "            return {'Id': rows[0],'name': rows[1],'Age': rows[2],'nationality': rows[3],'club': rows[4],'league': rows[5],'euro_wage': rows[6],'networth': rows[7],'score_of_100': rows[8]}\n",
    " "
   ]
  },
  {
   "cell_type": "code",
   "execution_count": 17,
   "metadata": {},
   "outputs": [
    {
     "data": {
      "text/plain": [
       "{'China': 'str', 'USA': 'Int'}"
      ]
     },
     "execution_count": 17,
     "metadata": {},
     "output_type": "execute_result"
    }
   ],
   "source": [
    "#dict sample\n",
    "k={}\n",
    " \n",
    "k[\"China\"]=\"str\"\n",
    "k[\"USA\"]=\"Int\"\n",
    "k"
   ]
  },
  {
   "cell_type": "code",
   "execution_count": 18,
   "metadata": {},
   "outputs": [
    {
     "data": {
      "text/plain": [
       "{'Id': '20801',\n",
       " 'name': 'Cristiano Ronaldo',\n",
       " 'Age': 32.0,\n",
       " 'nationality': 'Portugal',\n",
       " 'club': 'Real Madrid CF',\n",
       " 'league': 'Spanish Primera División',\n",
       " 'euro_wage': 565000.0,\n",
       " 'networth': 95500000.0,\n",
       " 'score_of_100': 94.0}"
      ]
     },
     "execution_count": 18,
     "metadata": {},
     "output_type": "execute_result"
    }
   ],
   "source": [
    "#q12\n",
    "player_to_dict(20801)"
   ]
  },
  {
   "cell_type": "code",
   "execution_count": 19,
   "metadata": {},
   "outputs": [
    {
     "data": {
      "text/plain": [
       "{'Id': '190871',\n",
       " 'name': 'Neymar',\n",
       " 'Age': 25.0,\n",
       " 'nationality': 'Brazil',\n",
       " 'club': 'Paris Saint-Germain',\n",
       " 'league': 'French Ligue 1',\n",
       " 'euro_wage': 280000.0,\n",
       " 'networth': 123000000.0,\n",
       " 'score_of_100': 92.0}"
      ]
     },
     "execution_count": 19,
     "metadata": {},
     "output_type": "execute_result"
    }
   ],
   "source": [
    "#q13\n",
    "player_to_dict(190871)"
   ]
  },
  {
   "cell_type": "code",
   "execution_count": 20,
   "metadata": {},
   "outputs": [
    {
     "data": {
      "text/plain": [
       "{'Id': '158023',\n",
       " 'name': 'L. Messi',\n",
       " 'Age': 30.0,\n",
       " 'nationality': 'Argentina',\n",
       " 'club': 'FC Barcelona',\n",
       " 'league': 'Spanish Primera División',\n",
       " 'euro_wage': 565000.0,\n",
       " 'networth': 105000000.0,\n",
       " 'score_of_100': 93.0}"
      ]
     },
     "execution_count": 20,
     "metadata": {},
     "output_type": "execute_result"
    }
   ],
   "source": [
    "#q14\n",
    "player_to_dict(158023)"
   ]
  },
  {
   "cell_type": "code",
   "execution_count": 21,
   "metadata": {},
   "outputs": [
    {
     "data": {
      "text/plain": [
       "{'Id': '192985',\n",
       " 'name': 'K. De Bruyne',\n",
       " 'Age': 26.0,\n",
       " 'nationality': 'Belgium',\n",
       " 'club': 'Manchester City',\n",
       " 'league': 'English Premier League',\n",
       " 'euro_wage': 285000.0,\n",
       " 'networth': 83000000.0,\n",
       " 'score_of_100': 89.0}"
      ]
     },
     "execution_count": 21,
     "metadata": {},
     "output_type": "execute_result"
    }
   ],
   "source": [
    "#q15\n",
    "player_to_dict(192985)"
   ]
  },
  {
   "cell_type": "code",
   "execution_count": 22,
   "metadata": {},
   "outputs": [
    {
     "data": {
      "text/plain": [
       "{'Portugal': 355,\n",
       " 'Argentina': 948,\n",
       " 'Brazil': 800,\n",
       " 'Uruguay': 150,\n",
       " 'Germany': 1132,\n",
       " 'Poland': 332,\n",
       " 'Spain': 995,\n",
       " 'Belgium': 260,\n",
       " 'Chile': 367,\n",
       " 'Croatia': 107,\n",
       " 'Wales': 122,\n",
       " 'Italy': 792,\n",
       " 'Slovenia': 62,\n",
       " 'France': 962,\n",
       " 'Gabon': 12,\n",
       " 'Sweden': 366,\n",
       " 'Netherlands': 425,\n",
       " 'Denmark': 343,\n",
       " 'Slovakia': 64,\n",
       " 'England': 1582,\n",
       " 'Colombia': 589,\n",
       " 'Austria': 262,\n",
       " 'Greece': 95,\n",
       " 'Czech Republic': 63,\n",
       " 'Costa Rica': 29,\n",
       " 'Armenia': 14,\n",
       " 'Bosnia Herzegovina': 55,\n",
       " 'Ivory Coast': 94,\n",
       " 'Senegal': 126,\n",
       " 'Switzerland': 228,\n",
       " 'Morocco': 77,\n",
       " 'Guinea': 25,\n",
       " 'Egypt': 20,\n",
       " 'Algeria': 56,\n",
       " 'Cameroon': 78,\n",
       " 'Serbia': 132,\n",
       " 'Japan': 469,\n",
       " 'Turkey': 288,\n",
       " 'Ecuador': 25,\n",
       " 'Montenegro': 25,\n",
       " 'Korea Republic': 316,\n",
       " 'Kenya': 7,\n",
       " 'Iceland': 52,\n",
       " 'Mexico': 360,\n",
       " 'Norway': 329,\n",
       " 'DR Congo': 57,\n",
       " 'Ukraine': 49,\n",
       " 'Russia': 305,\n",
       " 'Finland': 60,\n",
       " 'Republic of Ireland': 408,\n",
       " 'United States': 379,\n",
       " 'Venezuela': 41,\n",
       " 'Ghana': 113,\n",
       " 'Uzbekistan': 5,\n",
       " 'Nigeria': 126,\n",
       " 'Canada': 49,\n",
       " 'Paraguay': 60,\n",
       " 'Romania': 49,\n",
       " 'Albania': 35,\n",
       " 'Burkina Faso': 14,\n",
       " 'Cape Verde': 22,\n",
       " 'New Zealand': 30,\n",
       " 'Northern Ireland': 85,\n",
       " 'Syria': 4,\n",
       " 'Scotland': 291,\n",
       " 'Bulgaria': 20,\n",
       " 'Peru': 16,\n",
       " 'Angola': 15,\n",
       " 'Australia': 222,\n",
       " 'South Africa': 62,\n",
       " 'Jamaica': 37,\n",
       " 'Tunisia': 31,\n",
       " 'Mozambique': 3,\n",
       " 'Iran': 17,\n",
       " 'Mali': 46,\n",
       " 'Cuba': 2,\n",
       " 'Hungary': 24,\n",
       " 'Belarus': 9,\n",
       " 'Saudi Arabia': 321,\n",
       " 'Israel': 12,\n",
       " 'Benin': 14,\n",
       " 'Georgia': 31,\n",
       " 'Dominican Republic': 3,\n",
       " 'Lithuania': 12,\n",
       " 'Kosovo': 32,\n",
       " 'Moldova': 6,\n",
       " 'Togo': 8,\n",
       " 'FYR Macedonia': 17,\n",
       " 'Guinea Bissau': 15,\n",
       " 'Honduras': 13,\n",
       " 'Congo': 21,\n",
       " 'Chad': 2,\n",
       " 'Curacao': 11,\n",
       " 'Sierra Leone': 9,\n",
       " 'Gambia': 15,\n",
       " 'Iraq': 8,\n",
       " 'Trinidad & Tobago': 9,\n",
       " 'Zimbabwe': 10,\n",
       " 'Cyprus': 11,\n",
       " 'Niger': 3,\n",
       " 'Liechtenstein': 3,\n",
       " 'Oman': 1,\n",
       " 'Tanzania': 2,\n",
       " 'Zambia': 7,\n",
       " 'Libya': 2,\n",
       " 'Haiti': 14,\n",
       " 'Madagascar': 4,\n",
       " 'Estonia': 8,\n",
       " 'Guatemala': 1,\n",
       " 'New Caledonia': 2,\n",
       " 'Korea DPR': 6,\n",
       " 'Bermuda': 4,\n",
       " 'Comoros': 9,\n",
       " 'Panama': 16,\n",
       " 'Palestine': 4,\n",
       " 'Latvia': 6,\n",
       " 'Equatorial Guinea': 6,\n",
       " 'Eritrea': 1,\n",
       " 'Luxembourg': 8,\n",
       " 'Kuwait': 2,\n",
       " 'Suriname': 3,\n",
       " 'Uganda': 4,\n",
       " 'Mauritania': 2,\n",
       " 'El Salvador': 2,\n",
       " 'Central African Rep.': 4,\n",
       " 'Azerbaijan': 7,\n",
       " 'St Kitts Nevis': 3,\n",
       " 'Fiji': 1,\n",
       " 'Guam': 1,\n",
       " 'Lebanon': 5,\n",
       " 'Qatar': 6,\n",
       " 'Philippines': 3,\n",
       " 'China PR': 4,\n",
       " 'Somalia': 1,\n",
       " 'Kazakhstan': 3,\n",
       " 'Bolivia': 2,\n",
       " 'Montserrat': 4,\n",
       " 'Ethiopia': 2,\n",
       " 'Mauritius': 1,\n",
       " 'Liberia': 2,\n",
       " 'Puerto Rico': 2,\n",
       " 'Namibia': 2,\n",
       " 'Faroe Islands': 6,\n",
       " 'Guyana': 5,\n",
       " 'Thailand': 2,\n",
       " 'Barbados': 1,\n",
       " 'Antigua & Barbuda': 4,\n",
       " 'Gibraltar': 2,\n",
       " 'São Tomé & Príncipe': 1,\n",
       " 'Grenada': 1,\n",
       " 'Belize': 1,\n",
       " 'Burundi': 1,\n",
       " 'Turkmenistan': 1,\n",
       " 'Swaziland': 1,\n",
       " 'Malta': 3,\n",
       " 'St Lucia': 1,\n",
       " 'Sudan': 2,\n",
       " 'Vietnam': 1,\n",
       " 'Afghanistan': 3,\n",
       " 'Sri Lanka': 1,\n",
       " 'Kyrgyzstan': 1,\n",
       " 'San Marino': 1,\n",
       " 'Hong Kong': 1}"
      ]
     },
     "execution_count": 22,
     "metadata": {},
     "output_type": "execute_result"
    }
   ],
   "source": [
    "#q16 \n",
    "k={}\n",
    "for rows in player_data: \n",
    "    if rows[3] not in k:\n",
    "        k[rows[3]]=player_count(rows[3])\n",
    "k"
   ]
  },
  {
   "cell_type": "code",
   "execution_count": 23,
   "metadata": {},
   "outputs": [
    {
     "data": {
      "text/plain": [
       "{'Spanish Primera División': 582,\n",
       " 'French Ligue 1': 589,\n",
       " 'German Bundesliga': 523,\n",
       " 'English Premier League': 634,\n",
       " 'Italian Serie A': 554,\n",
       " 'Turkish Süper Lig': 493,\n",
       " 'Portuguese Primeira Liga': 503,\n",
       " 'USA Major League Soccer': 624,\n",
       " 'Russian Premier League': 447,\n",
       " 'Ukrainian Premier League': 24,\n",
       " 'Holland Eredivisie': 484,\n",
       " 'Mexican Liga MX': 515,\n",
       " 'Argentinian Superliga': 771,\n",
       " 'Japanese J1 League': 518,\n",
       " 'Belgian First Division A': 430,\n",
       " 'Czech Liga': 27,\n",
       " 'Saudi Professional League': 405,\n",
       " 'Greek Super League': 109,\n",
       " 'Swiss Super League': 257,\n",
       " 'Colombian Primera A': 551,\n",
       " 'English Championship': 706,\n",
       " 'Spanish Segunda División': 624,\n",
       " 'Chilian Primera División': 320,\n",
       " 'Campeonato Brasileiro Série A': 320,\n",
       " 'Swedish Allsvenskan': 385,\n",
       " 'South African PSL': 51,\n",
       " 'French Ligue 2': 535,\n",
       " 'Scottish Premiership': 310,\n",
       " 'Australian A-League': 226,\n",
       " 'German 2. Bundesliga': 509,\n",
       " 'Austrian Bundesliga': 255,\n",
       " 'Polish Ekstraklasa': 414,\n",
       " 'Italian Serie B': 618,\n",
       " 'Korean K League Classic': 322,\n",
       " 'Danish Superliga': 362,\n",
       " 'Norwegian Eliteserien': 392,\n",
       " 'English League One': 641,\n",
       " 'German 3. Liga': 513,\n",
       " 'English League Two': 615,\n",
       " 'Finnish Veikkausliiga': 27,\n",
       " 'Rep. Ireland Premier Division': 284}"
      ]
     },
     "execution_count": 23,
     "metadata": {},
     "output_type": "execute_result"
    }
   ],
   "source": [
    "#q17\n",
    "def player_count_league(league): \n",
    "    counts=0\n",
    "    for rows in player_data: \n",
    "        if rows[5]==league: \n",
    "            counts+=1\n",
    "    return counts\n",
    "\n",
    "k={}\n",
    "for rows in player_data: \n",
    "    if rows[5] not in k:\n",
    "        k[rows[5]]=player_count_league(rows[5])\n",
    "k"
   ]
  },
  {
   "cell_type": "code",
   "execution_count": 24,
   "metadata": {},
   "outputs": [
    {
     "data": {
      "text/plain": [
       "{'Spanish Primera División': 37104.810996563574,\n",
       " 'French Ligue 1': 20843.803056027165,\n",
       " 'German Bundesliga': 31177.820267686424,\n",
       " 'English Premier League': 58705.047318611985,\n",
       " 'Italian Serie A': 35981.94945848375,\n",
       " 'Turkish Süper Lig': 16582.150101419877,\n",
       " 'Portuguese Primeira Liga': 7570.576540755467,\n",
       " 'USA Major League Soccer': 4052.8846153846152,\n",
       " 'Russian Premier League': 19612.97539149888,\n",
       " 'Ukrainian Premier League': 1000.0,\n",
       " 'Holland Eredivisie': 6842.975206611571,\n",
       " 'Mexican Liga MX': 14885.436893203883,\n",
       " 'Argentinian Superliga': 6832.684824902723,\n",
       " 'Japanese J1 League': 3030.8880308880307,\n",
       " 'Belgian First Division A': 8953.488372093023,\n",
       " 'Czech Liga': 1000.0,\n",
       " 'Saudi Professional League': 8928.395061728395,\n",
       " 'Greek Super League': 1000.0,\n",
       " 'Swiss Super League': 6774.31906614786,\n",
       " 'Colombian Primera A': 1916.5154264972778,\n",
       " 'English Championship': 16702.54957507082,\n",
       " 'Spanish Segunda División': 5915.0641025641025,\n",
       " 'Chilian Primera División': 4800.0,\n",
       " 'Campeonato Brasileiro Série A': 15515.625,\n",
       " 'Swedish Allsvenskan': 2218.181818181818,\n",
       " 'South African PSL': 1000.0,\n",
       " 'French Ligue 2': 3330.841121495327,\n",
       " 'Scottish Premiership': 7154.8387096774195,\n",
       " 'Australian A-League': 3092.920353982301,\n",
       " 'German 2. Bundesliga': 7766.2082514734775,\n",
       " 'Austrian Bundesliga': 6054.901960784314,\n",
       " 'Polish Ekstraklasa': 3190.8212560386473,\n",
       " 'Italian Serie B': 3788.0258899676373,\n",
       " 'Korean K League Classic': 3043.478260869565,\n",
       " 'Danish Superliga': 5102.209944751381,\n",
       " 'Norwegian Eliteserien': 1936.2244897959183,\n",
       " 'English League One': 3663.0265210608422,\n",
       " 'German 3. Liga': 1136.4522417153996,\n",
       " 'English League Two': 3068.2926829268295,\n",
       " 'Finnish Veikkausliiga': 1000.0,\n",
       " 'Rep. Ireland Premier Division': 1049.2957746478874}"
      ]
     },
     "execution_count": 24,
     "metadata": {},
     "output_type": "execute_result"
    }
   ],
   "source": [
    "#q18\n",
    "#avg wage per league\n",
    "#5:league 6:wage\n",
    "#league: sum wage/ counts\n",
    "\n",
    "#tuple makes it easy to return 2 values in 1 func\n",
    "def player_count_league(league): \n",
    "    counts=0\n",
    "    counts_wage=0\n",
    "    for rows in player_data: \n",
    "        if rows[5]==league: \n",
    "            counts+=1\n",
    "            counts_wage+=rows[6]\n",
    "            \n",
    "    return (counts, counts_wage)\n",
    "\n",
    "#not necessary.\n",
    "#do not have to use two funcs \n",
    "\n",
    "'''\n",
    "def wage_count(league):\n",
    "    counts=0\n",
    "    for rows in player_data: \n",
    "        if rows[5]==league: \n",
    "            counts+=rows[6]\n",
    "    return counts\n",
    "'''\n",
    "    \n",
    "    \n",
    "    \n",
    "k={}\n",
    "\n",
    "for rows in player_data: \n",
    "    if rows[5] not in k:\n",
    "        \n",
    "        #k[rows[5]]=wage_count(rows[5])/player_count_league(rows[5])\n",
    "        k[rows[5]]=player_count_league(rows[5])[1]/player_count_league(rows[5])[0]\n",
    "\n",
    "k"
   ]
  },
  {
   "cell_type": "code",
   "execution_count": 25,
   "metadata": {},
   "outputs": [
    {
     "data": {
      "text/plain": [
       "{'Spanish Primera División': 25.015463917525775,\n",
       " 'French Ligue 1': 24.31239388794567,\n",
       " 'German Bundesliga': 24.137667304015295,\n",
       " 'English Premier League': 24.832807570977916,\n",
       " 'Italian Serie A': 25.21119133574007,\n",
       " 'Turkish Süper Lig': 26.4868154158215,\n",
       " 'Portuguese Primeira Liga': 25.05765407554672,\n",
       " 'USA Major League Soccer': 26.009615384615383,\n",
       " 'Russian Premier League': 25.55704697986577,\n",
       " 'Ukrainian Premier League': 25.958333333333332,\n",
       " 'Holland Eredivisie': 23.264462809917354,\n",
       " 'Mexican Liga MX': 25.833009708737865,\n",
       " 'Argentinian Superliga': 25.325551232166017,\n",
       " 'Japanese J1 League': 26.65057915057915,\n",
       " 'Belgian First Division A': 24.05581395348837,\n",
       " 'Czech Liga': 27.333333333333332,\n",
       " 'Saudi Professional League': 25.760493827160495,\n",
       " 'Greek Super League': 25.339449541284402,\n",
       " 'Swiss Super League': 24.136186770428015,\n",
       " 'Colombian Primera A': 25.76043557168784,\n",
       " 'English Championship': 24.923512747875353,\n",
       " 'Spanish Segunda División': 25.05128205128205,\n",
       " 'Chilian Primera División': 28.975,\n",
       " 'Campeonato Brasileiro Série A': 28.975,\n",
       " 'Swedish Allsvenskan': 24.97142857142857,\n",
       " 'South African PSL': 26.80392156862745,\n",
       " 'French Ligue 2': 24.82429906542056,\n",
       " 'Scottish Premiership': 24.625806451612902,\n",
       " 'Australian A-League': 25.52654867256637,\n",
       " 'German 2. Bundesliga': 24.557956777996072,\n",
       " 'Austrian Bundesliga': 24.094117647058823,\n",
       " 'Polish Ekstraklasa': 25.70048309178744,\n",
       " 'Italian Serie B': 25.042071197411005,\n",
       " 'Korean K League Classic': 26.267080745341616,\n",
       " 'Danish Superliga': 24.26795580110497,\n",
       " 'Norwegian Eliteserien': 24.252551020408163,\n",
       " 'English League One': 24.279251170046802,\n",
       " 'German 3. Liga': 24.142300194931774,\n",
       " 'English League Two': 24.357723577235774,\n",
       " 'Finnish Veikkausliiga': 23.59259259259259,\n",
       " 'Rep. Ireland Premier Division': 24.010563380281692}"
      ]
     },
     "execution_count": 25,
     "metadata": {},
     "output_type": "execute_result"
    }
   ],
   "source": [
    "#q19\n",
    "#avg age per league \n",
    "#league: sum age/#of player\n",
    "#league:5   age: 2\n",
    "\n",
    "\n",
    "#return (sum age, counts)\n",
    "\n",
    "\n",
    "\n",
    "def player_counts(league): \n",
    "    num_counts=0 \n",
    "    age_counts=0\n",
    "    \n",
    "    for rows in player_data: \n",
    "        if rows[5]==league: \n",
    "            num_counts+=1\n",
    "            age_counts+=rows[2]\n",
    "    return (num_counts,age_counts)\n",
    "\n",
    "k={}\n",
    "\n",
    "for rows in player_data:\n",
    "    if rows[5] not in k:\n",
    "        k[rows[5]]=player_counts(rows[5])[1]/player_counts(rows[5])[0]\n",
    "            \n",
    "            \n",
    "            \n",
    "k"
   ]
  },
  {
   "cell_type": "code",
   "execution_count": 26,
   "metadata": {},
   "outputs": [
    {
     "data": {
      "text/plain": [
       "'Chilian Primera División'"
      ]
     },
     "execution_count": 26,
     "metadata": {},
     "output_type": "execute_result"
    }
   ],
   "source": [
    "#q20 \n",
    "#league with max avg age\n",
    "#copy from q19 \n",
    "\n",
    "\n",
    "#return (sum age, counts)\n",
    "\n",
    "\n",
    "\n",
    "def player_counts(league): \n",
    "    num_counts=0 \n",
    "    age_counts=0\n",
    "    \n",
    "    for rows in player_data: \n",
    "        if rows[5]==league: \n",
    "            num_counts+=1\n",
    "            age_counts+=rows[2]\n",
    "    return (num_counts,age_counts)\n",
    "\n",
    "k={}\n",
    "\n",
    "for rows in player_data:\n",
    "    if rows[5] not in k:\n",
    "        k[rows[5]]=player_counts(rows[5])[1]/player_counts(rows[5])[0]\n",
    "            \n",
    "            \n",
    "#compare and store vals \n",
    "max_age=0\n",
    "max_league=\"123\"\n",
    "\n",
    "\n",
    "for pair in k: \n",
    "    if k[pair]>max_age: \n",
    "        max_age=k[pair]\n",
    "        max_league=pair\n",
    "\n",
    "\n",
    "max_league "
   ]
  },
  {
   "cell_type": "code",
   "execution_count": 27,
   "metadata": {},
   "outputs": [],
   "source": [
    "# project: p7\n",
    "# submitter-netid: yzhou344\n",
    "# partner-netid: none"
   ]
  }
 ],
 "metadata": {
  "kernelspec": {
   "display_name": "Python 3",
   "language": "python",
   "name": "python3"
  },
  "language_info": {
   "codemirror_mode": {
    "name": "ipython",
    "version": 3
   },
   "file_extension": ".py",
   "mimetype": "text/x-python",
   "name": "python",
   "nbconvert_exporter": "python",
   "pygments_lexer": "ipython3",
   "version": "3.7.2"
  }
 },
 "nbformat": 4,
 "nbformat_minor": 2
}
