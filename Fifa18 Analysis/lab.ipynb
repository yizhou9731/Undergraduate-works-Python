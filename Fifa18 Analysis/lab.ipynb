{
 "cells": [
  {
   "cell_type": "code",
   "execution_count": 3,
   "metadata": {},
   "outputs": [
    {
     "data": {
      "text/plain": [
       "{'d': 3,\n",
       " 'o': 4,\n",
       " ',': 11,\n",
       " ' ': 11,\n",
       " 'r': 3,\n",
       " 'e': 3,\n",
       " 'm': 2,\n",
       " 'i': 3,\n",
       " 'f': 1,\n",
       " 'a': 2,\n",
       " 's': 1,\n",
       " 'l': 2,\n",
       " 't': 1}"
      ]
     },
     "execution_count": 3,
     "metadata": {},
     "output_type": "execute_result"
    }
   ],
   "source": [
    "#counts becomes a dictionary where each key is a character and \n",
    "#the corresponding value is how many times it appeared in text.\n",
    "\n",
    "\n",
    "text = \"do, re, do, re, mi, do, re, mi, fa, sol, la, ti\"\n",
    "counts = {}\n",
    "for char in text:\n",
    "    if not char in counts:\n",
    "        counts[char] = 1\n",
    "    else:\n",
    "        counts[char] += 1\n",
    "counts"
   ]
  },
  {
   "cell_type": "code",
   "execution_count": 7,
   "metadata": {},
   "outputs": [
    {
     "data": {
      "text/plain": [
       "{'do': 3, 're': 3, 'mi': 2, 'fa': 1, 'sol': 1, 'la': 1, 'ti': 1}"
      ]
     },
     "execution_count": 7,
     "metadata": {},
     "output_type": "execute_result"
    }
   ],
   "source": [
    "#split func\n",
    "text = \"do, re, do, re, mi, do, re, mi, fa, sol, la, ti\"\n",
    "counts = {}\n",
    "for word in text.split(', '):\n",
    "    if word not in counts:\n",
    "        counts[word]=1\n",
    "    else:\n",
    "        counts[word]+=1\n",
    "counts"
   ]
  },
  {
   "cell_type": "code",
   "execution_count": 11,
   "metadata": {},
   "outputs": [
    {
     "data": {
      "text/plain": [
       "{'dog': 'perro', 'cat': 'gato', 'bird': 'pájaro'}"
      ]
     },
     "execution_count": 11,
     "metadata": {},
     "output_type": "execute_result"
    }
   ],
   "source": [
    "keys = [\"dog\", \"cat\", \"bird\"]\n",
    "vals = [\"perro\", \"gato\", \"pájaro\"]\n",
    "en2sp = {} # empty dictionary\n",
    "for i in range(len(keys)):\n",
    "    en2sp[keys[i]] = vals[i]\n",
    "en2sp"
   ]
  },
  {
   "cell_type": "code",
   "execution_count": 12,
   "metadata": {},
   "outputs": [
    {
     "data": {
      "text/plain": [
       "'the perro chased the gato down the stairs'"
      ]
     },
     "execution_count": 12,
     "metadata": {},
     "output_type": "execute_result"
    }
   ],
   "source": [
    "words = \"the dog chased the cat down the stairs\".split(\" \")\n",
    "for i in range(len(words)):\n",
    "    default = words[i] # don't translate it\n",
    "    words[i] = en2sp.get(words[i], default)\n",
    "\" \".join(words)"
   ]
  },
  {
   "cell_type": "code",
   "execution_count": 29,
   "metadata": {},
   "outputs": [
    {
     "data": {
      "text/plain": [
       "{'perro': 'dog', 'gato': 'cat', 'pájaro': 'bird'}"
      ]
     },
     "execution_count": 29,
     "metadata": {},
     "output_type": "execute_result"
    }
   ],
   "source": [
    "\n",
    "sp2en = {}\n",
    "for en in en2sp:\n",
    "    sp = en2sp[en]\n",
    "    sp2en[sp] = en\n",
    "sp2en"
   ]
  },
  {
   "cell_type": "code",
   "execution_count": 30,
   "metadata": {},
   "outputs": [
    {
     "data": {
      "text/plain": [
       "{'A': 0.5, 'B': 0.5, 'C': 0.75}"
      ]
     },
     "execution_count": 30,
     "metadata": {},
     "output_type": "execute_result"
    }
   ],
   "source": [
    "numerators = {\"A\": 1, \"B\": 2, \"C\": 3}\n",
    "denominators = {\"A\": 2, \"B\": 4, \"C\": 4}\n",
    "result = {}\n",
    "for key in numerators:\n",
    "    result[key] = numerators[key] / denominators[key]\n",
    "result"
   ]
  },
  {
   "cell_type": "code",
   "execution_count": 32,
   "metadata": {},
   "outputs": [
    {
     "name": "stdout",
     "output_type": "stream",
     "text": [
      "2014 ********\n",
      "2015 **********\n",
      "2016 **************\n",
      "2017 *************\n",
      "2018 ****************\n"
     ]
    }
   ],
   "source": [
    "incidents = {2016: 14, 2017: 13, 2018: 16, 2014: 8, 2015: 10}\n",
    "keys = sorted(list(incidents.keys()))\n",
    "for k in keys:\n",
    "    dia=int(incidents[k])*\"*\"\n",
    "    print(k, dia)"
   ]
  },
  {
   "cell_type": "code",
   "execution_count": 2,
   "metadata": {},
   "outputs": [
    {
     "name": "stdout",
     "output_type": "stream",
     "text": [
      "Year 2018 had 16 incidents (the max)\n"
     ]
    }
   ],
   "source": [
    "#find the year with the most incidents\n",
    "\n",
    "incidents = {2016: 14, 2017: 13, 2018: 16, 2014: 8, 2015: 10}\n",
    "best_key = None\n",
    "for key in incidents:\n",
    "    if best_key == None or incidents[key] > incidents[best_key]:\n",
    "        best_key = key\n",
    "print(\"Year\", best_key, \"had\", incidents[best_key], \"incidents (the max)\")\n"
   ]
  },
  {
   "cell_type": "code",
   "execution_count": null,
   "metadata": {},
   "outputs": [],
   "source": []
  }
 ],
 "metadata": {
  "kernelspec": {
   "display_name": "Python 3",
   "language": "python",
   "name": "python3"
  },
  "language_info": {
   "codemirror_mode": {
    "name": "ipython",
    "version": 3
   },
   "file_extension": ".py",
   "mimetype": "text/x-python",
   "name": "python",
   "nbconvert_exporter": "python",
   "pygments_lexer": "ipython3",
   "version": "3.7.2"
  }
 },
 "nbformat": 4,
 "nbformat_minor": 2
}
